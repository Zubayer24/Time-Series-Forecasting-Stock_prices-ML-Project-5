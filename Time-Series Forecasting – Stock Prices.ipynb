{
 "cells": [
  {
   "cell_type": "code",
   "execution_count": 1,
   "id": "55537ce2-65a0-4c5c-b3c3-57d473056c54",
   "metadata": {},
   "outputs": [],
   "source": [
    "import warnings\n",
    "warnings.filterwarnings(\"ignore\")\n",
    "\n",
    "import pandas as pd\n",
    "import numpy as np\n",
    "import matplotlib.pyplot as plt\n",
    "from math import sqrt\n",
    "\n",
    "# ARIMA\n",
    "from statsmodels.tsa.stattools import adfuller\n",
    "from pmdarima import auto_arima\n",
    "from statsmodels.tsa.arima.model import ARIMA\n",
    "\n",
    "# Prophet\n",
    "from prophet import Prophet\n",
    "\n",
    "# Metrics\n",
    "from sklearn.metrics import mean_squared_error, mean_absolute_error"
   ]
  },
  {
   "cell_type": "code",
   "execution_count": 2,
   "id": "058b9e18-0f59-4a90-9ff8-f9948d0078e4",
   "metadata": {},
   "outputs": [
    {
     "data": {
      "text/html": [
       "<div>\n",
       "<style scoped>\n",
       "    .dataframe tbody tr th:only-of-type {\n",
       "        vertical-align: middle;\n",
       "    }\n",
       "\n",
       "    .dataframe tbody tr th {\n",
       "        vertical-align: top;\n",
       "    }\n",
       "\n",
       "    .dataframe thead th {\n",
       "        text-align: right;\n",
       "    }\n",
       "</style>\n",
       "<table border=\"1\" class=\"dataframe\">\n",
       "  <thead>\n",
       "    <tr style=\"text-align: right;\">\n",
       "      <th></th>\n",
       "      <th>Date</th>\n",
       "      <th>Open</th>\n",
       "      <th>High</th>\n",
       "      <th>Low</th>\n",
       "      <th>Close</th>\n",
       "      <th>Adj Close</th>\n",
       "      <th>Volume</th>\n",
       "    </tr>\n",
       "  </thead>\n",
       "  <tbody>\n",
       "    <tr>\n",
       "      <th>0</th>\n",
       "      <td>7/23/2021</td>\n",
       "      <td>116.000000</td>\n",
       "      <td>138.899994</td>\n",
       "      <td>115.000000</td>\n",
       "      <td>126.000000</td>\n",
       "      <td>126.000000</td>\n",
       "      <td>694895290</td>\n",
       "    </tr>\n",
       "    <tr>\n",
       "      <th>1</th>\n",
       "      <td>7/26/2021</td>\n",
       "      <td>126.349998</td>\n",
       "      <td>143.750000</td>\n",
       "      <td>125.300003</td>\n",
       "      <td>140.649994</td>\n",
       "      <td>140.649994</td>\n",
       "      <td>249723854</td>\n",
       "    </tr>\n",
       "    <tr>\n",
       "      <th>2</th>\n",
       "      <td>7/27/2021</td>\n",
       "      <td>141.699997</td>\n",
       "      <td>147.800003</td>\n",
       "      <td>127.750000</td>\n",
       "      <td>132.899994</td>\n",
       "      <td>132.899994</td>\n",
       "      <td>240341900</td>\n",
       "    </tr>\n",
       "    <tr>\n",
       "      <th>3</th>\n",
       "      <td>7/28/2021</td>\n",
       "      <td>131.000000</td>\n",
       "      <td>135.000000</td>\n",
       "      <td>123.550003</td>\n",
       "      <td>131.199997</td>\n",
       "      <td>131.199997</td>\n",
       "      <td>159793731</td>\n",
       "    </tr>\n",
       "    <tr>\n",
       "      <th>4</th>\n",
       "      <td>7/29/2021</td>\n",
       "      <td>134.949997</td>\n",
       "      <td>144.000000</td>\n",
       "      <td>132.199997</td>\n",
       "      <td>141.550003</td>\n",
       "      <td>141.550003</td>\n",
       "      <td>117973089</td>\n",
       "    </tr>\n",
       "    <tr>\n",
       "      <th>...</th>\n",
       "      <td>...</td>\n",
       "      <td>...</td>\n",
       "      <td>...</td>\n",
       "      <td>...</td>\n",
       "      <td>...</td>\n",
       "      <td>...</td>\n",
       "      <td>...</td>\n",
       "    </tr>\n",
       "    <tr>\n",
       "      <th>626</th>\n",
       "      <td>2/1/2024</td>\n",
       "      <td>141.000000</td>\n",
       "      <td>143.500000</td>\n",
       "      <td>138.550003</td>\n",
       "      <td>140.550003</td>\n",
       "      <td>140.550003</td>\n",
       "      <td>70252449</td>\n",
       "    </tr>\n",
       "    <tr>\n",
       "      <th>627</th>\n",
       "      <td>2/2/2024</td>\n",
       "      <td>141.800003</td>\n",
       "      <td>145.000000</td>\n",
       "      <td>141.449997</td>\n",
       "      <td>143.800003</td>\n",
       "      <td>143.800003</td>\n",
       "      <td>78666454</td>\n",
       "    </tr>\n",
       "    <tr>\n",
       "      <th>628</th>\n",
       "      <td>2/5/2024</td>\n",
       "      <td>145.000000</td>\n",
       "      <td>145.399994</td>\n",
       "      <td>138.250000</td>\n",
       "      <td>140.250000</td>\n",
       "      <td>140.250000</td>\n",
       "      <td>54189688</td>\n",
       "    </tr>\n",
       "    <tr>\n",
       "      <th>629</th>\n",
       "      <td>2/6/2024</td>\n",
       "      <td>140.399994</td>\n",
       "      <td>141.800003</td>\n",
       "      <td>138.050003</td>\n",
       "      <td>139.949997</td>\n",
       "      <td>139.949997</td>\n",
       "      <td>46782951</td>\n",
       "    </tr>\n",
       "    <tr>\n",
       "      <th>630</th>\n",
       "      <td>2/7/2024</td>\n",
       "      <td>141.000000</td>\n",
       "      <td>142.899994</td>\n",
       "      <td>139.649994</td>\n",
       "      <td>140.399994</td>\n",
       "      <td>140.399994</td>\n",
       "      <td>75083259</td>\n",
       "    </tr>\n",
       "  </tbody>\n",
       "</table>\n",
       "<p>631 rows × 7 columns</p>\n",
       "</div>"
      ],
      "text/plain": [
       "          Date        Open        High         Low       Close   Adj Close  \\\n",
       "0    7/23/2021  116.000000  138.899994  115.000000  126.000000  126.000000   \n",
       "1    7/26/2021  126.349998  143.750000  125.300003  140.649994  140.649994   \n",
       "2    7/27/2021  141.699997  147.800003  127.750000  132.899994  132.899994   \n",
       "3    7/28/2021  131.000000  135.000000  123.550003  131.199997  131.199997   \n",
       "4    7/29/2021  134.949997  144.000000  132.199997  141.550003  141.550003   \n",
       "..         ...         ...         ...         ...         ...         ...   \n",
       "626   2/1/2024  141.000000  143.500000  138.550003  140.550003  140.550003   \n",
       "627   2/2/2024  141.800003  145.000000  141.449997  143.800003  143.800003   \n",
       "628   2/5/2024  145.000000  145.399994  138.250000  140.250000  140.250000   \n",
       "629   2/6/2024  140.399994  141.800003  138.050003  139.949997  139.949997   \n",
       "630   2/7/2024  141.000000  142.899994  139.649994  140.399994  140.399994   \n",
       "\n",
       "        Volume  \n",
       "0    694895290  \n",
       "1    249723854  \n",
       "2    240341900  \n",
       "3    159793731  \n",
       "4    117973089  \n",
       "..         ...  \n",
       "626   70252449  \n",
       "627   78666454  \n",
       "628   54189688  \n",
       "629   46782951  \n",
       "630   75083259  \n",
       "\n",
       "[631 rows x 7 columns]"
      ]
     },
     "execution_count": 2,
     "metadata": {},
     "output_type": "execute_result"
    }
   ],
   "source": [
    "df = pd.read_csv('zomato_Stock_Prices.csv')\n",
    "df"
   ]
  },
  {
   "cell_type": "code",
   "execution_count": 3,
   "id": "5871c9d6-5d8d-4816-8768-7c75150b180c",
   "metadata": {},
   "outputs": [
    {
     "name": "stdout",
     "output_type": "stream",
     "text": [
      "<class 'pandas.core.frame.DataFrame'>\n",
      "RangeIndex: 631 entries, 0 to 630\n",
      "Data columns (total 7 columns):\n",
      " #   Column     Non-Null Count  Dtype  \n",
      "---  ------     --------------  -----  \n",
      " 0   Date       631 non-null    object \n",
      " 1   Open       631 non-null    float64\n",
      " 2   High       631 non-null    float64\n",
      " 3   Low        631 non-null    float64\n",
      " 4   Close      631 non-null    float64\n",
      " 5   Adj Close  631 non-null    float64\n",
      " 6   Volume     631 non-null    int64  \n",
      "dtypes: float64(5), int64(1), object(1)\n",
      "memory usage: 34.6+ KB\n"
     ]
    }
   ],
   "source": [
    "df.info()"
   ]
  },
  {
   "cell_type": "code",
   "execution_count": 4,
   "id": "992f056d-fa8a-4e43-9375-c1d2f21e0f6a",
   "metadata": {},
   "outputs": [],
   "source": [
    "df['Date'] = pd.to_datetime(df['Date'], errors='coerce')"
   ]
  },
  {
   "cell_type": "code",
   "execution_count": 5,
   "id": "26c3db01-8798-495c-992e-8d0c7875875c",
   "metadata": {},
   "outputs": [],
   "source": [
    "df = df.set_index('Date').sort_index()"
   ]
  },
  {
   "cell_type": "code",
   "execution_count": 6,
   "id": "fb46ba3a-56e3-4a2c-aad1-cdfda4fa7c78",
   "metadata": {},
   "outputs": [
    {
     "data": {
      "text/html": [
       "<div>\n",
       "<style scoped>\n",
       "    .dataframe tbody tr th:only-of-type {\n",
       "        vertical-align: middle;\n",
       "    }\n",
       "\n",
       "    .dataframe tbody tr th {\n",
       "        vertical-align: top;\n",
       "    }\n",
       "\n",
       "    .dataframe thead th {\n",
       "        text-align: right;\n",
       "    }\n",
       "</style>\n",
       "<table border=\"1\" class=\"dataframe\">\n",
       "  <thead>\n",
       "    <tr style=\"text-align: right;\">\n",
       "      <th></th>\n",
       "      <th>Open</th>\n",
       "      <th>High</th>\n",
       "      <th>Low</th>\n",
       "      <th>Close</th>\n",
       "      <th>Adj Close</th>\n",
       "      <th>Volume</th>\n",
       "    </tr>\n",
       "    <tr>\n",
       "      <th>Date</th>\n",
       "      <th></th>\n",
       "      <th></th>\n",
       "      <th></th>\n",
       "      <th></th>\n",
       "      <th></th>\n",
       "      <th></th>\n",
       "    </tr>\n",
       "  </thead>\n",
       "  <tbody>\n",
       "    <tr>\n",
       "      <th>2021-07-23</th>\n",
       "      <td>116.000000</td>\n",
       "      <td>138.899994</td>\n",
       "      <td>115.000000</td>\n",
       "      <td>126.000000</td>\n",
       "      <td>126.000000</td>\n",
       "      <td>694895290</td>\n",
       "    </tr>\n",
       "    <tr>\n",
       "      <th>2021-07-26</th>\n",
       "      <td>126.349998</td>\n",
       "      <td>143.750000</td>\n",
       "      <td>125.300003</td>\n",
       "      <td>140.649994</td>\n",
       "      <td>140.649994</td>\n",
       "      <td>249723854</td>\n",
       "    </tr>\n",
       "    <tr>\n",
       "      <th>2021-07-27</th>\n",
       "      <td>141.699997</td>\n",
       "      <td>147.800003</td>\n",
       "      <td>127.750000</td>\n",
       "      <td>132.899994</td>\n",
       "      <td>132.899994</td>\n",
       "      <td>240341900</td>\n",
       "    </tr>\n",
       "    <tr>\n",
       "      <th>2021-07-28</th>\n",
       "      <td>131.000000</td>\n",
       "      <td>135.000000</td>\n",
       "      <td>123.550003</td>\n",
       "      <td>131.199997</td>\n",
       "      <td>131.199997</td>\n",
       "      <td>159793731</td>\n",
       "    </tr>\n",
       "    <tr>\n",
       "      <th>2021-07-29</th>\n",
       "      <td>134.949997</td>\n",
       "      <td>144.000000</td>\n",
       "      <td>132.199997</td>\n",
       "      <td>141.550003</td>\n",
       "      <td>141.550003</td>\n",
       "      <td>117973089</td>\n",
       "    </tr>\n",
       "  </tbody>\n",
       "</table>\n",
       "</div>"
      ],
      "text/plain": [
       "                  Open        High         Low       Close   Adj Close  \\\n",
       "Date                                                                     \n",
       "2021-07-23  116.000000  138.899994  115.000000  126.000000  126.000000   \n",
       "2021-07-26  126.349998  143.750000  125.300003  140.649994  140.649994   \n",
       "2021-07-27  141.699997  147.800003  127.750000  132.899994  132.899994   \n",
       "2021-07-28  131.000000  135.000000  123.550003  131.199997  131.199997   \n",
       "2021-07-29  134.949997  144.000000  132.199997  141.550003  141.550003   \n",
       "\n",
       "               Volume  \n",
       "Date                   \n",
       "2021-07-23  694895290  \n",
       "2021-07-26  249723854  \n",
       "2021-07-27  240341900  \n",
       "2021-07-28  159793731  \n",
       "2021-07-29  117973089  "
      ]
     },
     "execution_count": 6,
     "metadata": {},
     "output_type": "execute_result"
    }
   ],
   "source": [
    "df.head()"
   ]
  },
  {
   "cell_type": "code",
   "execution_count": 7,
   "id": "cfaf6c63-ee3f-44e0-b156-f2e1a7a7a165",
   "metadata": {},
   "outputs": [],
   "source": [
    "# if close and adj close contain same value then dropping adj column \n",
    "if (df['Close'] == df['Adj Close']).all():\n",
    "    df=df.drop('Adj Close',axis =1)"
   ]
  },
  {
   "cell_type": "code",
   "execution_count": 8,
   "id": "010479e0-ea16-4911-8944-c6bf5585d66b",
   "metadata": {},
   "outputs": [
    {
     "data": {
      "text/html": [
       "<div>\n",
       "<style scoped>\n",
       "    .dataframe tbody tr th:only-of-type {\n",
       "        vertical-align: middle;\n",
       "    }\n",
       "\n",
       "    .dataframe tbody tr th {\n",
       "        vertical-align: top;\n",
       "    }\n",
       "\n",
       "    .dataframe thead th {\n",
       "        text-align: right;\n",
       "    }\n",
       "</style>\n",
       "<table border=\"1\" class=\"dataframe\">\n",
       "  <thead>\n",
       "    <tr style=\"text-align: right;\">\n",
       "      <th></th>\n",
       "      <th>Open</th>\n",
       "      <th>High</th>\n",
       "      <th>Low</th>\n",
       "      <th>Close</th>\n",
       "      <th>Volume</th>\n",
       "    </tr>\n",
       "    <tr>\n",
       "      <th>Date</th>\n",
       "      <th></th>\n",
       "      <th></th>\n",
       "      <th></th>\n",
       "      <th></th>\n",
       "      <th></th>\n",
       "    </tr>\n",
       "  </thead>\n",
       "  <tbody>\n",
       "    <tr>\n",
       "      <th>2021-07-23</th>\n",
       "      <td>116.000000</td>\n",
       "      <td>138.899994</td>\n",
       "      <td>115.000000</td>\n",
       "      <td>126.000000</td>\n",
       "      <td>694895290</td>\n",
       "    </tr>\n",
       "    <tr>\n",
       "      <th>2021-07-26</th>\n",
       "      <td>126.349998</td>\n",
       "      <td>143.750000</td>\n",
       "      <td>125.300003</td>\n",
       "      <td>140.649994</td>\n",
       "      <td>249723854</td>\n",
       "    </tr>\n",
       "    <tr>\n",
       "      <th>2021-07-27</th>\n",
       "      <td>141.699997</td>\n",
       "      <td>147.800003</td>\n",
       "      <td>127.750000</td>\n",
       "      <td>132.899994</td>\n",
       "      <td>240341900</td>\n",
       "    </tr>\n",
       "    <tr>\n",
       "      <th>2021-07-28</th>\n",
       "      <td>131.000000</td>\n",
       "      <td>135.000000</td>\n",
       "      <td>123.550003</td>\n",
       "      <td>131.199997</td>\n",
       "      <td>159793731</td>\n",
       "    </tr>\n",
       "    <tr>\n",
       "      <th>2021-07-29</th>\n",
       "      <td>134.949997</td>\n",
       "      <td>144.000000</td>\n",
       "      <td>132.199997</td>\n",
       "      <td>141.550003</td>\n",
       "      <td>117973089</td>\n",
       "    </tr>\n",
       "  </tbody>\n",
       "</table>\n",
       "</div>"
      ],
      "text/plain": [
       "                  Open        High         Low       Close     Volume\n",
       "Date                                                                 \n",
       "2021-07-23  116.000000  138.899994  115.000000  126.000000  694895290\n",
       "2021-07-26  126.349998  143.750000  125.300003  140.649994  249723854\n",
       "2021-07-27  141.699997  147.800003  127.750000  132.899994  240341900\n",
       "2021-07-28  131.000000  135.000000  123.550003  131.199997  159793731\n",
       "2021-07-29  134.949997  144.000000  132.199997  141.550003  117973089"
      ]
     },
     "execution_count": 8,
     "metadata": {},
     "output_type": "execute_result"
    }
   ],
   "source": [
    "# after dropping adj close\n",
    "df.head()"
   ]
  },
  {
   "cell_type": "code",
   "execution_count": 9,
   "id": "14db617c-b355-473e-98eb-34980c7c59d8",
   "metadata": {},
   "outputs": [
    {
     "data": {
      "image/png": "[encoded data removed]",
      "text/plain": [
       "<Figure size 1000x400 with 1 Axes>"
      ]
     },
     "metadata": {},
     "output_type": "display_data"
    }
   ],
   "source": [
    "plt.figure(figsize=(10,4))\n",
    "plt.plot(df['Close'], label=\"Close Price\")\n",
    "plt.title('Daily Closing Prices')\n",
    "plt.xlabel('Date')\n",
    "plt.ylabel('Close Price')\n",
    "plt.legend()\n",
    "plt.show()"
   ]
  },
  {
   "cell_type": "markdown",
   "id": "212c330d-d29e-4db1-95c4-654238d646dd",
   "metadata": {},
   "source": [
    "## Arima Model"
   ]
  },
  {
   "cell_type": "code",
   "execution_count": 11,
   "id": "5f590480-d87e-4a8c-a7ce-8af0aedeb4ed",
   "metadata": {},
   "outputs": [
    {
     "name": "stdout",
     "output_type": "stream",
     "text": [
      "ADF Statistics: -0.956977036549261\n",
      "P-value: 0.7686308939488031\n",
      "This series is not stationary. Differencing will be applied\n"
     ]
    }
   ],
   "source": [
    "### Stationary check for ARIMA Model\n",
    "result = adfuller(df['Close'])\n",
    "print('ADF Statistics:',result[0])\n",
    "print('P-value:',result[1])\n",
    "\n",
    "if result[1]>0.05:\n",
    "    print('This series is not stationary. Differencing will be applied')\n",
    "    df['Close_diff'] = df['Close'].diff().dropna()\n",
    "\n",
    "else:\n",
    "    print('The series is stationary. Proceeding without differencing.')"
   ]
  },
  {
   "cell_type": "code",
   "execution_count": 12,
   "id": "68bd922b-c400-4d9f-9237-1bc766574a4c",
   "metadata": {},
   "outputs": [
    {
     "data": {
      "text/html": [
       "<div>\n",
       "<style scoped>\n",
       "    .dataframe tbody tr th:only-of-type {\n",
       "        vertical-align: middle;\n",
       "    }\n",
       "\n",
       "    .dataframe tbody tr th {\n",
       "        vertical-align: top;\n",
       "    }\n",
       "\n",
       "    .dataframe thead th {\n",
       "        text-align: right;\n",
       "    }\n",
       "</style>\n",
       "<table border=\"1\" class=\"dataframe\">\n",
       "  <thead>\n",
       "    <tr style=\"text-align: right;\">\n",
       "      <th></th>\n",
       "      <th>Open</th>\n",
       "      <th>High</th>\n",
       "      <th>Low</th>\n",
       "      <th>Close</th>\n",
       "      <th>Volume</th>\n",
       "      <th>Close_diff</th>\n",
       "    </tr>\n",
       "    <tr>\n",
       "      <th>Date</th>\n",
       "      <th></th>\n",
       "      <th></th>\n",
       "      <th></th>\n",
       "      <th></th>\n",
       "      <th></th>\n",
       "      <th></th>\n",
       "    </tr>\n",
       "  </thead>\n",
       "  <tbody>\n",
       "    <tr>\n",
       "      <th>2021-07-23</th>\n",
       "      <td>116.000000</td>\n",
       "      <td>138.899994</td>\n",
       "      <td>115.000000</td>\n",
       "      <td>126.000000</td>\n",
       "      <td>694895290</td>\n",
       "      <td>NaN</td>\n",
       "    </tr>\n",
       "    <tr>\n",
       "      <th>2021-07-26</th>\n",
       "      <td>126.349998</td>\n",
       "      <td>143.750000</td>\n",
       "      <td>125.300003</td>\n",
       "      <td>140.649994</td>\n",
       "      <td>249723854</td>\n",
       "      <td>14.649994</td>\n",
       "    </tr>\n",
       "    <tr>\n",
       "      <th>2021-07-27</th>\n",
       "      <td>141.699997</td>\n",
       "      <td>147.800003</td>\n",
       "      <td>127.750000</td>\n",
       "      <td>132.899994</td>\n",
       "      <td>240341900</td>\n",
       "      <td>-7.750000</td>\n",
       "    </tr>\n",
       "    <tr>\n",
       "      <th>2021-07-28</th>\n",
       "      <td>131.000000</td>\n",
       "      <td>135.000000</td>\n",
       "      <td>123.550003</td>\n",
       "      <td>131.199997</td>\n",
       "      <td>159793731</td>\n",
       "      <td>-1.699997</td>\n",
       "    </tr>\n",
       "    <tr>\n",
       "      <th>2021-07-29</th>\n",
       "      <td>134.949997</td>\n",
       "      <td>144.000000</td>\n",
       "      <td>132.199997</td>\n",
       "      <td>141.550003</td>\n",
       "      <td>117973089</td>\n",
       "      <td>10.350006</td>\n",
       "    </tr>\n",
       "  </tbody>\n",
       "</table>\n",
       "</div>"
      ],
      "text/plain": [
       "                  Open        High         Low       Close     Volume  \\\n",
       "Date                                                                    \n",
       "2021-07-23  116.000000  138.899994  115.000000  126.000000  694895290   \n",
       "2021-07-26  126.349998  143.750000  125.300003  140.649994  249723854   \n",
       "2021-07-27  141.699997  147.800003  127.750000  132.899994  240341900   \n",
       "2021-07-28  131.000000  135.000000  123.550003  131.199997  159793731   \n",
       "2021-07-29  134.949997  144.000000  132.199997  141.550003  117973089   \n",
       "\n",
       "            Close_diff  \n",
       "Date                    \n",
       "2021-07-23         NaN  \n",
       "2021-07-26   14.649994  \n",
       "2021-07-27   -7.750000  \n",
       "2021-07-28   -1.699997  \n",
       "2021-07-29   10.350006  "
      ]
     },
     "execution_count": 12,
     "metadata": {},
     "output_type": "execute_result"
    }
   ],
   "source": [
    "df.head(5)"
   ]
  },
  {
   "cell_type": "code",
   "execution_count": 13,
   "id": "243a81e0-3d8b-4319-bbf4-c94a74f0e80b",
   "metadata": {},
   "outputs": [],
   "source": [
    "# drop the first row\n",
    "df = df.drop(df.index[0])"
   ]
  },
  {
   "cell_type": "code",
   "execution_count": 14,
   "id": "33a74fd1-ba3a-48d4-8975-a982b83eb088",
   "metadata": {},
   "outputs": [
    {
     "data": {
      "text/html": [
       "<div>\n",
       "<style scoped>\n",
       "    .dataframe tbody tr th:only-of-type {\n",
       "        vertical-align: middle;\n",
       "    }\n",
       "\n",
       "    .dataframe tbody tr th {\n",
       "        vertical-align: top;\n",
       "    }\n",
       "\n",
       "    .dataframe thead th {\n",
       "        text-align: right;\n",
       "    }\n",
       "</style>\n",
       "<table border=\"1\" class=\"dataframe\">\n",
       "  <thead>\n",
       "    <tr style=\"text-align: right;\">\n",
       "      <th></th>\n",
       "      <th>Open</th>\n",
       "      <th>High</th>\n",
       "      <th>Low</th>\n",
       "      <th>Close</th>\n",
       "      <th>Volume</th>\n",
       "      <th>Close_diff</th>\n",
       "    </tr>\n",
       "    <tr>\n",
       "      <th>Date</th>\n",
       "      <th></th>\n",
       "      <th></th>\n",
       "      <th></th>\n",
       "      <th></th>\n",
       "      <th></th>\n",
       "      <th></th>\n",
       "    </tr>\n",
       "  </thead>\n",
       "  <tbody>\n",
       "    <tr>\n",
       "      <th>2021-07-26</th>\n",
       "      <td>126.349998</td>\n",
       "      <td>143.750000</td>\n",
       "      <td>125.300003</td>\n",
       "      <td>140.649994</td>\n",
       "      <td>249723854</td>\n",
       "      <td>14.649994</td>\n",
       "    </tr>\n",
       "    <tr>\n",
       "      <th>2021-07-27</th>\n",
       "      <td>141.699997</td>\n",
       "      <td>147.800003</td>\n",
       "      <td>127.750000</td>\n",
       "      <td>132.899994</td>\n",
       "      <td>240341900</td>\n",
       "      <td>-7.750000</td>\n",
       "    </tr>\n",
       "    <tr>\n",
       "      <th>2021-07-28</th>\n",
       "      <td>131.000000</td>\n",
       "      <td>135.000000</td>\n",
       "      <td>123.550003</td>\n",
       "      <td>131.199997</td>\n",
       "      <td>159793731</td>\n",
       "      <td>-1.699997</td>\n",
       "    </tr>\n",
       "    <tr>\n",
       "      <th>2021-07-29</th>\n",
       "      <td>134.949997</td>\n",
       "      <td>144.000000</td>\n",
       "      <td>132.199997</td>\n",
       "      <td>141.550003</td>\n",
       "      <td>117973089</td>\n",
       "      <td>10.350006</td>\n",
       "    </tr>\n",
       "    <tr>\n",
       "      <th>2021-07-30</th>\n",
       "      <td>142.600006</td>\n",
       "      <td>142.699997</td>\n",
       "      <td>131.000000</td>\n",
       "      <td>133.500000</td>\n",
       "      <td>88312522</td>\n",
       "      <td>-8.050003</td>\n",
       "    </tr>\n",
       "  </tbody>\n",
       "</table>\n",
       "</div>"
      ],
      "text/plain": [
       "                  Open        High         Low       Close     Volume  \\\n",
       "Date                                                                    \n",
       "2021-07-26  126.349998  143.750000  125.300003  140.649994  249723854   \n",
       "2021-07-27  141.699997  147.800003  127.750000  132.899994  240341900   \n",
       "2021-07-28  131.000000  135.000000  123.550003  131.199997  159793731   \n",
       "2021-07-29  134.949997  144.000000  132.199997  141.550003  117973089   \n",
       "2021-07-30  142.600006  142.699997  131.000000  133.500000   88312522   \n",
       "\n",
       "            Close_diff  \n",
       "Date                    \n",
       "2021-07-26   14.649994  \n",
       "2021-07-27   -7.750000  \n",
       "2021-07-28   -1.699997  \n",
       "2021-07-29   10.350006  \n",
       "2021-07-30   -8.050003  "
      ]
     },
     "execution_count": 14,
     "metadata": {},
     "output_type": "execute_result"
    }
   ],
   "source": [
    "df.head(5)"
   ]
  },
  {
   "cell_type": "code",
   "execution_count": 15,
   "id": "0cb7d5c9-3104-43ea-8e0a-b534adb42ec8",
   "metadata": {},
   "outputs": [
    {
     "data": {
      "image/png": "[encoded data removed]",
      "text/plain": [
       "<Figure size 1000x600 with 1 Axes>"
      ]
     },
     "metadata": {},
     "output_type": "display_data"
    }
   ],
   "source": [
    "plt.figure(figsize=(10,6))\n",
    "plt.plot(df.index, df['Close_diff'],label='Differenced Series')\n",
    "plt.title(\"Differenced Time series\")\n",
    "plt.show()"
   ]
  },
  {
   "cell_type": "code",
   "execution_count": 16,
   "id": "535f4b91-3534-438e-90ae-2d05f91ffada",
   "metadata": {},
   "outputs": [
    {
     "name": "stdout",
     "output_type": "stream",
     "text": [
      "ADF Statistic (Differenced): -26.207256410933613\n",
      "p-value (Differenced): 0.0\n",
      "The differenced series is stationary. Ready for ARIMA modeling.\n"
     ]
    }
   ],
   "source": [
    "result_diff = adfuller(df['Close_diff'])\n",
    "print(\"ADF Statistic (Differenced):\", result_diff[0])\n",
    "print(\"p-value (Differenced):\", result_diff[1])\n",
    "\n",
    "if result_diff[1] > 0.05:\n",
    "    print(\"The differenced series is still not stationary.\")\n",
    "else:\n",
    "    print(\"The differenced series is stationary. Ready for ARIMA modeling.\")\n"
   ]
  },
  {
   "cell_type": "code",
   "execution_count": 17,
   "id": "e6e5b38c-3ee8-4a66-926b-48cfe3045e86",
   "metadata": {},
   "outputs": [
    {
     "data": {
      "text/plain": [
       "Index(['Open', 'High', 'Low', 'Close', 'Volume', 'Close_diff'], dtype='object')"
      ]
     },
     "execution_count": 17,
     "metadata": {},
     "output_type": "execute_result"
    }
   ],
   "source": [
    "df.columns"
   ]
  },
  {
   "cell_type": "code",
   "execution_count": 18,
   "id": "468cce2e-d07c-4321-bbb0-628161f187ab",
   "metadata": {},
   "outputs": [
    {
     "data": {
      "text/html": [
       "<div>\n",
       "<style scoped>\n",
       "    .dataframe tbody tr th:only-of-type {\n",
       "        vertical-align: middle;\n",
       "    }\n",
       "\n",
       "    .dataframe tbody tr th {\n",
       "        vertical-align: top;\n",
       "    }\n",
       "\n",
       "    .dataframe thead th {\n",
       "        text-align: right;\n",
       "    }\n",
       "</style>\n",
       "<table border=\"1\" class=\"dataframe\">\n",
       "  <thead>\n",
       "    <tr style=\"text-align: right;\">\n",
       "      <th></th>\n",
       "      <th>Open</th>\n",
       "      <th>High</th>\n",
       "      <th>Low</th>\n",
       "      <th>Close</th>\n",
       "      <th>Volume</th>\n",
       "      <th>Close_diff</th>\n",
       "    </tr>\n",
       "    <tr>\n",
       "      <th>Date</th>\n",
       "      <th></th>\n",
       "      <th></th>\n",
       "      <th></th>\n",
       "      <th></th>\n",
       "      <th></th>\n",
       "      <th></th>\n",
       "    </tr>\n",
       "  </thead>\n",
       "  <tbody>\n",
       "    <tr>\n",
       "      <th>2021-07-26</th>\n",
       "      <td>126.349998</td>\n",
       "      <td>143.750000</td>\n",
       "      <td>125.300003</td>\n",
       "      <td>140.649994</td>\n",
       "      <td>249723854</td>\n",
       "      <td>14.649994</td>\n",
       "    </tr>\n",
       "    <tr>\n",
       "      <th>2021-07-27</th>\n",
       "      <td>141.699997</td>\n",
       "      <td>147.800003</td>\n",
       "      <td>127.750000</td>\n",
       "      <td>132.899994</td>\n",
       "      <td>240341900</td>\n",
       "      <td>-7.750000</td>\n",
       "    </tr>\n",
       "    <tr>\n",
       "      <th>2021-07-28</th>\n",
       "      <td>131.000000</td>\n",
       "      <td>135.000000</td>\n",
       "      <td>123.550003</td>\n",
       "      <td>131.199997</td>\n",
       "      <td>159793731</td>\n",
       "      <td>-1.699997</td>\n",
       "    </tr>\n",
       "    <tr>\n",
       "      <th>2021-07-29</th>\n",
       "      <td>134.949997</td>\n",
       "      <td>144.000000</td>\n",
       "      <td>132.199997</td>\n",
       "      <td>141.550003</td>\n",
       "      <td>117973089</td>\n",
       "      <td>10.350006</td>\n",
       "    </tr>\n",
       "    <tr>\n",
       "      <th>2021-07-30</th>\n",
       "      <td>142.600006</td>\n",
       "      <td>142.699997</td>\n",
       "      <td>131.000000</td>\n",
       "      <td>133.500000</td>\n",
       "      <td>88312522</td>\n",
       "      <td>-8.050003</td>\n",
       "    </tr>\n",
       "  </tbody>\n",
       "</table>\n",
       "</div>"
      ],
      "text/plain": [
       "                  Open        High         Low       Close     Volume  \\\n",
       "Date                                                                    \n",
       "2021-07-26  126.349998  143.750000  125.300003  140.649994  249723854   \n",
       "2021-07-27  141.699997  147.800003  127.750000  132.899994  240341900   \n",
       "2021-07-28  131.000000  135.000000  123.550003  131.199997  159793731   \n",
       "2021-07-29  134.949997  144.000000  132.199997  141.550003  117973089   \n",
       "2021-07-30  142.600006  142.699997  131.000000  133.500000   88312522   \n",
       "\n",
       "            Close_diff  \n",
       "Date                    \n",
       "2021-07-26   14.649994  \n",
       "2021-07-27   -7.750000  \n",
       "2021-07-28   -1.699997  \n",
       "2021-07-29   10.350006  \n",
       "2021-07-30   -8.050003  "
      ]
     },
     "execution_count": 18,
     "metadata": {},
     "output_type": "execute_result"
    }
   ],
   "source": [
    "df.head()"
   ]
  },
  {
   "cell_type": "code",
   "execution_count": 19,
   "id": "34226920-ba19-450d-86e7-6d05d700d14a",
   "metadata": {},
   "outputs": [],
   "source": [
    "df1 = df.copy()"
   ]
  },
  {
   "cell_type": "code",
   "execution_count": 20,
   "id": "377e14f5-05d9-445c-a148-e0f4a9937135",
   "metadata": {},
   "outputs": [],
   "source": [
    "df = df.drop('Close_diff',axis=1)"
   ]
  },
  {
   "cell_type": "code",
   "execution_count": 21,
   "id": "597dfeba-1653-4905-aff2-c334b782f8ac",
   "metadata": {},
   "outputs": [
    {
     "data": {
      "text/plain": [
       "(630, 5)"
      ]
     },
     "execution_count": 21,
     "metadata": {},
     "output_type": "execute_result"
    }
   ],
   "source": [
    "df.shape"
   ]
  },
  {
   "cell_type": "code",
   "execution_count": 22,
   "id": "088f4723-c28d-4c12-b34e-2aa0d2c1571c",
   "metadata": {},
   "outputs": [],
   "source": [
    "series = df['Close'].astype(float)"
   ]
  },
  {
   "cell_type": "code",
   "execution_count": 23,
   "id": "90b30de9-57a4-448c-9044-fc1e7dce7f95",
   "metadata": {},
   "outputs": [],
   "source": [
    "series.index = pd.to_datetime(series.index)"
   ]
  },
  {
   "cell_type": "code",
   "execution_count": 24,
   "id": "a71a292c-8020-4ed2-8229-02dc6c05bc48",
   "metadata": {},
   "outputs": [
    {
     "data": {
      "text/plain": [
       "Date\n",
       "2021-07-26    140.649994\n",
       "2021-07-27    132.899994\n",
       "2021-07-28    131.199997\n",
       "2021-07-29    141.550003\n",
       "2021-07-30    133.500000\n",
       "                 ...    \n",
       "2024-02-01    140.550003\n",
       "2024-02-02    143.800003\n",
       "2024-02-05    140.250000\n",
       "2024-02-06    139.949997\n",
       "2024-02-07    140.399994\n",
       "Name: Close, Length: 630, dtype: float64"
      ]
     },
     "execution_count": 24,
     "metadata": {},
     "output_type": "execute_result"
    }
   ],
   "source": [
    "series"
   ]
  },
  {
   "cell_type": "code",
   "execution_count": 25,
   "id": "bacfa617-dc99-4263-828c-d20cb5f60853",
   "metadata": {},
   "outputs": [
    {
     "name": "stdout",
     "output_type": "stream",
     "text": [
      "inferred_freq (raw): None\n"
     ]
    }
   ],
   "source": [
    "# all those values is in day freq. so that it can be show NaN for holiday/ other days\n",
    "print(\"inferred_freq (raw):\", series.index.inferred_freq) "
   ]
  },
  {
   "cell_type": "code",
   "execution_count": 26,
   "id": "c57c352b-41b7-4876-a65e-dbf35ad40836",
   "metadata": {},
   "outputs": [],
   "source": [
    "df = df.asfreq('B')"
   ]
  },
  {
   "cell_type": "code",
   "execution_count": 27,
   "id": "2e9075b4-663c-4954-992b-899a2c6431d1",
   "metadata": {},
   "outputs": [],
   "source": [
    "# 2. Prepare as BUSINESS DAYS and fill holidays\n",
    "series = series.asfreq('B')   # uniform business-day index\n",
    "series = series.ffill()       # forward-fill for holiday gaps "
   ]
  },
  {
   "cell_type": "code",
   "execution_count": 28,
   "id": "d981a22b-464a-4e80-8bba-20e8dc3a3ced",
   "metadata": {},
   "outputs": [
    {
     "data": {
      "text/plain": [
       "0"
      ]
     },
     "execution_count": 28,
     "metadata": {},
     "output_type": "execute_result"
    }
   ],
   "source": [
    "series.isnull().sum()"
   ]
  },
  {
   "cell_type": "code",
   "execution_count": 29,
   "id": "cbef0dc9-5780-4243-ae90-7c4fdb94837a",
   "metadata": {},
   "outputs": [],
   "source": [
    " # Rolling window evaluation\n",
    "def rolling_window_eval(series, model_func, window_size=200, horizon=1):\n",
    "    preds, trues = [], []\n",
    "    n = len(series)\n",
    "\n",
    "    for i in range(window_size, n - horizon + 1):\n",
    "        train = series[i - window_size:i]\n",
    "        test = series[i:i+horizon]\n",
    "        forecast = model_func(train, horizon)\n",
    "        preds.extend(forecast)\n",
    "        trues.extend(test.values)\n",
    "\n",
    "    return np.array(trues), np.array(preds) "
   ]
  },
  {
   "cell_type": "code",
   "execution_count": 30,
   "id": "c3511182-0f92-4749-8651-4068867e27a4",
   "metadata": {},
   "outputs": [],
   "source": [
    "import pmdarima as pm"
   ]
  },
  {
   "cell_type": "code",
   "execution_count": 31,
   "id": "0361d578-2d0d-4ef8-91af-6f19a215e9a8",
   "metadata": {},
   "outputs": [
    {
     "name": "stdout",
     "output_type": "stream",
     "text": [
      "Performing stepwise search to minimize aic\n",
      " ARIMA(2,2,2)(0,0,0)[0] intercept   : AIC=inf, Time=0.67 sec\n",
      " ARIMA(0,2,0)(0,0,0)[0] intercept   : AIC=3784.940, Time=0.05 sec\n",
      " ARIMA(1,2,0)(0,0,0)[0] intercept   : AIC=3633.742, Time=0.10 sec\n",
      " ARIMA(0,2,1)(0,0,0)[0] intercept   : AIC=inf, Time=0.29 sec\n",
      " ARIMA(0,2,0)(0,0,0)[0]             : AIC=3782.945, Time=0.04 sec\n",
      " ARIMA(2,2,0)(0,0,0)[0] intercept   : AIC=3539.090, Time=0.14 sec\n",
      " ARIMA(3,2,0)(0,0,0)[0] intercept   : AIC=3481.519, Time=0.15 sec\n",
      " ARIMA(4,2,0)(0,0,0)[0] intercept   : AIC=3458.749, Time=0.23 sec\n",
      " ARIMA(5,2,0)(0,0,0)[0] intercept   : AIC=3440.425, Time=0.29 sec\n",
      " ARIMA(5,2,1)(0,0,0)[0] intercept   : AIC=inf, Time=0.98 sec\n",
      " ARIMA(4,2,1)(0,0,0)[0] intercept   : AIC=inf, Time=0.74 sec\n",
      " ARIMA(5,2,0)(0,0,0)[0]             : AIC=3438.427, Time=0.12 sec\n",
      " ARIMA(4,2,0)(0,0,0)[0]             : AIC=3456.751, Time=0.11 sec\n",
      " ARIMA(5,2,1)(0,0,0)[0]             : AIC=inf, Time=0.33 sec\n",
      " ARIMA(4,2,1)(0,0,0)[0]             : AIC=inf, Time=0.27 sec\n",
      "\n",
      "Best model:  ARIMA(5,2,0)(0,0,0)[0]          \n",
      "Total fit time: 4.538 seconds\n"
     ]
    }
   ],
   "source": [
    "arima_model = pm.auto_arima(series,seasonal=False,trace=True) "
   ]
  },
  {
   "cell_type": "code",
   "execution_count": 32,
   "id": "64f27470-1673-4e35-ae51-cd5b1afef78a",
   "metadata": {},
   "outputs": [
    {
     "name": "stdout",
     "output_type": "stream",
     "text": [
      "                               SARIMAX Results                                \n",
      "==============================================================================\n",
      "Dep. Variable:                      y   No. Observations:                  663\n",
      "Model:               SARIMAX(5, 2, 0)   Log Likelihood               -1713.214\n",
      "Date:                Sat, 04 Oct 2025   AIC                           3438.427\n",
      "Time:                        19:37:06   BIC                           3465.390\n",
      "Sample:                    07-26-2021   HQIC                          3448.877\n",
      "                         - 02-07-2024                                         \n",
      "Covariance Type:                  opg                                         \n",
      "==============================================================================\n",
      "                 coef    std err          z      P>|z|      [0.025      0.975]\n",
      "------------------------------------------------------------------------------\n",
      "ar.L1         -0.8254      0.023    -35.514      0.000      -0.871      -0.780\n",
      "ar.L2         -0.7408      0.031    -23.780      0.000      -0.802      -0.680\n",
      "ar.L3         -0.5544      0.035    -15.760      0.000      -0.623      -0.485\n",
      "ar.L4         -0.3328      0.036     -9.281      0.000      -0.403      -0.263\n",
      "ar.L5         -0.1781      0.030     -6.033      0.000      -0.236      -0.120\n",
      "sigma2        10.4244      0.330     31.598      0.000       9.778      11.071\n",
      "===================================================================================\n",
      "Ljung-Box (L1) (Q):                   0.22   Jarque-Bera (JB):               488.98\n",
      "Prob(Q):                              0.64   Prob(JB):                         0.00\n",
      "Heteroskedasticity (H):               0.31   Skew:                             0.15\n",
      "Prob(H) (two-sided):                  0.00   Kurtosis:                         7.20\n",
      "===================================================================================\n",
      "\n",
      "Warnings:\n",
      "[1] Covariance matrix calculated using the outer product of gradients (complex-step).\n"
     ]
    }
   ],
   "source": [
    "print(arima_model.summary()) "
   ]
  },
  {
   "cell_type": "code",
   "execution_count": 33,
   "id": "7ee11eb8-a9a9-4281-958f-23b077b53f25",
   "metadata": {},
   "outputs": [
    {
     "name": "stdout",
     "output_type": "stream",
     "text": [
      "Auto ARIMA suggested order: (5, 2, 0)\n"
     ]
    }
   ],
   "source": [
    "best_order = arima_model.order\n",
    "print('Auto ARIMA suggested order:', best_order)"
   ]
  },
  {
   "cell_type": "code",
   "execution_count": 34,
   "id": "85ed8b58-9d31-4104-a802-8dbf268bab78",
   "metadata": {},
   "outputs": [],
   "source": [
    "def arima_forecast(train, horizon=1, order=(5,2,0)):\n",
    "    try:\n",
    "        model = ARIMA(train, order=order)\n",
    "        fit = model.fit()\n",
    "        return fit.forecast(steps=horizon)\n",
    "    except:\n",
    "        # If ARIMA fails, return last observed value (naive forecast)\n",
    "        return [train.iloc[-1]] * horizon"
   ]
  },
  {
   "cell_type": "code",
   "execution_count": 35,
   "id": "908ada4d-0e7d-4066-bff3-4fcd803c398a",
   "metadata": {},
   "outputs": [],
   "source": [
    "def mean_absolute_percentage_error(y_true, y_pred):\n",
    "    y_true, y_pred = np.array(y_true), np.array(y_pred)\n",
    "    # avoid division by zero\n",
    "    return np.mean(np.abs((y_true - y_pred) / np.where(y_true==0, 1, y_true))) * 100"
   ]
  },
  {
   "cell_type": "markdown",
   "id": "d3b1b486-fb0c-45a7-8268-c23ac4733e46",
   "metadata": {},
   "source": [
    "#### Rolling Evaluation with Metrics- Arima Model"
   ]
  },
  {
   "cell_type": "code",
   "execution_count": 37,
   "id": "84ac5483-1f4f-455d-9d83-6fd8067bdaeb",
   "metadata": {},
   "outputs": [
    {
     "name": "stdout",
     "output_type": "stream",
     "text": [
      "ARIMA -> RMSE: 2.5433, MAPE: 2.53%\n"
     ]
    }
   ],
   "source": [
    "arima_trues, arima_preds = rolling_window_eval(series, arima_forecast,\n",
    "                                               window_size=200, horizon=1)\n",
    "arima_rmse = sqrt(mean_squared_error(arima_trues, arima_preds))\n",
    "arima_mape = mean_absolute_percentage_error(arima_trues, arima_preds)\n",
    "print(f\"ARIMA -> RMSE: {arima_rmse:.4f}, MAPE: {arima_mape:.2f}%\")"
   ]
  },
  {
   "cell_type": "code",
   "execution_count": 39,
   "id": "9d4d0154-08ec-4cad-bece-0ba1a39c398f",
   "metadata": {},
   "outputs": [
    {
     "data": {
      "image/png": "[encoded data removed]",
      "text/plain": [
       "<Figure size 1200x600 with 1 Axes>"
      ]
     },
     "metadata": {},
     "output_type": "display_data"
    }
   ],
   "source": [
    "import matplotlib.pyplot as plt\n",
    "\n",
    "# Align the evaluation period with your true/pred arrays\n",
    "start_idx = len(series) - len(arima_trues)\n",
    "time_index = series.index[start_idx:]   # corresponding dates\n",
    "\n",
    "plt.figure(figsize=(12,6))\n",
    "\n",
    "# full series in gray\n",
    "plt.plot(series.index, series.values, color=\"gray\", label=\"Full Series\")\n",
    "\n",
    "# actual vs predicted during evaluation\n",
    "plt.plot(time_index, arima_trues, color=\"blue\", label=\"Actual (Evaluation Period)\")\n",
    "plt.plot(time_index, arima_preds, color=\"red\", linestyle=\"--\", label=\"ARIMA Forecast\")\n",
    "\n",
    "plt.title(\"ARIMA Rolling Window Forecast vs Actual\")\n",
    "plt.xlabel(\"Date\")\n",
    "plt.ylabel(\"Stock Price\")\n",
    "plt.legend()\n",
    "plt.show()"
   ]
  },
  {
   "cell_type": "markdown",
   "id": "f0db9edc-0ddc-4ed0-af66-d4f79de4e9b7",
   "metadata": {},
   "source": [
    "#### Forecasting Next 365 Days with Arima Model"
   ]
  },
  {
   "cell_type": "code",
   "execution_count": 41,
   "id": "a28a214d-7841-4451-9ac3-68c03afaf160",
   "metadata": {},
   "outputs": [],
   "source": [
    "series = series.asfreq('B')"
   ]
  },
  {
   "cell_type": "code",
   "execution_count": 42,
   "id": "423299a9-8798-4bf7-ab44-37991fc0158a",
   "metadata": {},
   "outputs": [],
   "source": [
    "arima = ARIMA(series, order=(5,2,0))\n",
    "arima_fitted = arima.fit()"
   ]
  },
  {
   "cell_type": "code",
   "execution_count": 43,
   "id": "57d3df12-8d0e-439f-a59b-80b33a30a4ad",
   "metadata": {},
   "outputs": [
    {
     "name": "stdout",
     "output_type": "stream",
     "text": [
      "ARIMA Forecast:\n",
      " 2024-02-08    141.084677\n",
      "2024-02-09    141.080867\n",
      "2024-02-12    141.184869\n",
      "2024-02-13    140.751445\n",
      "2024-02-14    140.851741\n",
      "                 ...    \n",
      "2025-06-26    153.295949\n",
      "2025-06-27    153.330516\n",
      "2025-06-30    153.365083\n",
      "2025-07-01    153.399651\n",
      "2025-07-02    153.434218\n",
      "Freq: B, Name: predicted_mean, Length: 365, dtype: float64\n"
     ]
    }
   ],
   "source": [
    "forecast_steps = 365  # Number of steps to forecast\n",
    "forecast = arima_fitted.forecast(steps=forecast_steps)\n",
    "print(\"ARIMA Forecast:\\n\",forecast)"
   ]
  },
  {
   "cell_type": "code",
   "execution_count": 44,
   "id": "cf070310-9466-48c5-b933-0fc3f0b077ef",
   "metadata": {},
   "outputs": [
    {
     "data": {
      "image/png": "[encoded data removed]",
      "text/plain": [
       "<Figure size 1200x600 with 1 Axes>"
      ]
     },
     "metadata": {},
     "output_type": "display_data"
    }
   ],
   "source": [
    "# Plot\n",
    "plt.figure(figsize=(12,6))\n",
    "plt.plot(series.index, series.values, color=\"blue\", label=\"Historical\")\n",
    "plt.plot(pd.date_range(series.index[-1], periods=365, freq='D'),\n",
    "         forecast, color=\"red\", linestyle=\"--\", label=\"1-Year Forecast\")\n",
    "plt.title(\"ARIMA 1-Year Forecast\")\n",
    "plt.xlabel(\"Date\")\n",
    "plt.ylabel(\"Stock Price\")\n",
    "plt.legend()\n",
    "plt.show()"
   ]
  },
  {
   "cell_type": "markdown",
   "id": "33d240b2-37a4-4cfa-b6ab-5f876bb62e5b",
   "metadata": {},
   "source": [
    "# Prophet Model"
   ]
  },
  {
   "cell_type": "code",
   "execution_count": 46,
   "id": "adfe9de0-748f-495b-83b3-6b90ccc4d6d5",
   "metadata": {},
   "outputs": [
    {
     "data": {
      "text/plain": [
       "Date\n",
       "2021-07-26    140.649994\n",
       "2021-07-27    132.899994\n",
       "2021-07-28    131.199997\n",
       "2021-07-29    141.550003\n",
       "2021-07-30    133.500000\n",
       "Freq: B, Name: Close, dtype: float64"
      ]
     },
     "execution_count": 46,
     "metadata": {},
     "output_type": "execute_result"
    }
   ],
   "source": [
    "series_prop = df['Close'].astype(float)\n",
    "series_prop.head()"
   ]
  },
  {
   "cell_type": "code",
   "execution_count": 47,
   "id": "d36bc407-b103-4eed-a167-7e867e8aee22",
   "metadata": {},
   "outputs": [
    {
     "name": "stdout",
     "output_type": "stream",
     "text": [
      "<class 'pandas.core.frame.DataFrame'>\n",
      "DatetimeIndex: 663 entries, 2021-07-26 to 2024-02-07\n",
      "Freq: B\n",
      "Data columns (total 5 columns):\n",
      " #   Column  Non-Null Count  Dtype  \n",
      "---  ------  --------------  -----  \n",
      " 0   Open    630 non-null    float64\n",
      " 1   High    630 non-null    float64\n",
      " 2   Low     630 non-null    float64\n",
      " 3   Close   630 non-null    float64\n",
      " 4   Volume  630 non-null    float64\n",
      "dtypes: float64(5)\n",
      "memory usage: 31.1 KB\n"
     ]
    }
   ],
   "source": [
    "df.info()"
   ]
  },
  {
   "cell_type": "code",
   "execution_count": 48,
   "id": "d2799f42-7463-437c-b6d9-6510738dba7a",
   "metadata": {},
   "outputs": [],
   "source": [
    "df_prop = df.reset_index()"
   ]
  },
  {
   "cell_type": "code",
   "execution_count": 49,
   "id": "462f433b-cf6e-4ee2-9f85-b4ca5aaf89b8",
   "metadata": {},
   "outputs": [],
   "source": [
    "df_prop= df_prop.dropna()"
   ]
  },
  {
   "cell_type": "code",
   "execution_count": 50,
   "id": "c37bab84-a49b-419b-b7b8-4791cee4d2b6",
   "metadata": {},
   "outputs": [],
   "source": [
    "df_prop = df_prop.drop(columns=['Open','High','Low','Volume'])"
   ]
  },
  {
   "cell_type": "code",
   "execution_count": 51,
   "id": "27203f9f-28ef-40fb-b460-5422a24b3bd3",
   "metadata": {},
   "outputs": [
    {
     "data": {
      "text/html": [
       "<div>\n",
       "<style scoped>\n",
       "    .dataframe tbody tr th:only-of-type {\n",
       "        vertical-align: middle;\n",
       "    }\n",
       "\n",
       "    .dataframe tbody tr th {\n",
       "        vertical-align: top;\n",
       "    }\n",
       "\n",
       "    .dataframe thead th {\n",
       "        text-align: right;\n",
       "    }\n",
       "</style>\n",
       "<table border=\"1\" class=\"dataframe\">\n",
       "  <thead>\n",
       "    <tr style=\"text-align: right;\">\n",
       "      <th></th>\n",
       "      <th>ds</th>\n",
       "      <th>y</th>\n",
       "    </tr>\n",
       "  </thead>\n",
       "  <tbody>\n",
       "    <tr>\n",
       "      <th>0</th>\n",
       "      <td>2021-07-26</td>\n",
       "      <td>140.649994</td>\n",
       "    </tr>\n",
       "    <tr>\n",
       "      <th>1</th>\n",
       "      <td>2021-07-27</td>\n",
       "      <td>132.899994</td>\n",
       "    </tr>\n",
       "    <tr>\n",
       "      <th>2</th>\n",
       "      <td>2021-07-28</td>\n",
       "      <td>131.199997</td>\n",
       "    </tr>\n",
       "    <tr>\n",
       "      <th>3</th>\n",
       "      <td>2021-07-29</td>\n",
       "      <td>141.550003</td>\n",
       "    </tr>\n",
       "    <tr>\n",
       "      <th>4</th>\n",
       "      <td>2021-07-30</td>\n",
       "      <td>133.500000</td>\n",
       "    </tr>\n",
       "  </tbody>\n",
       "</table>\n",
       "</div>"
      ],
      "text/plain": [
       "          ds           y\n",
       "0 2021-07-26  140.649994\n",
       "1 2021-07-27  132.899994\n",
       "2 2021-07-28  131.199997\n",
       "3 2021-07-29  141.550003\n",
       "4 2021-07-30  133.500000"
      ]
     },
     "execution_count": 51,
     "metadata": {},
     "output_type": "execute_result"
    }
   ],
   "source": [
    "df_prop.columns=('ds','y')\n",
    "df_prop.head()"
   ]
  },
  {
   "cell_type": "code",
   "execution_count": 52,
   "id": "455f6e0a-44f3-4f99-98e7-18029174d764",
   "metadata": {},
   "outputs": [
    {
     "data": {
      "text/plain": [
       "(630, 2)"
      ]
     },
     "execution_count": 52,
     "metadata": {},
     "output_type": "execute_result"
    }
   ],
   "source": [
    "df_prop.shape"
   ]
  },
  {
   "cell_type": "code",
   "execution_count": 54,
   "id": "b0d09f47-3d0b-4fad-82b8-1bc95c94e151",
   "metadata": {},
   "outputs": [
    {
     "name": "stderr",
     "output_type": "stream",
     "text": [
      "19:38:03 - cmdstanpy - INFO - Chain [1] start processing\n",
      "19:38:03 - cmdstanpy - INFO - Chain [1] done processing\n"
     ]
    }
   ],
   "source": [
    "m = Prophet(interval_width=0.95, daily_seasonality=True)\n",
    "model = m.fit(df_prop)"
   ]
  },
  {
   "cell_type": "code",
   "execution_count": 55,
   "id": "9cd55da7-81cb-447d-af9d-5c3d12d6860c",
   "metadata": {},
   "outputs": [
    {
     "data": {
      "text/html": [
       "<div>\n",
       "<style scoped>\n",
       "    .dataframe tbody tr th:only-of-type {\n",
       "        vertical-align: middle;\n",
       "    }\n",
       "\n",
       "    .dataframe tbody tr th {\n",
       "        vertical-align: top;\n",
       "    }\n",
       "\n",
       "    .dataframe thead th {\n",
       "        text-align: right;\n",
       "    }\n",
       "</style>\n",
       "<table border=\"1\" class=\"dataframe\">\n",
       "  <thead>\n",
       "    <tr style=\"text-align: right;\">\n",
       "      <th></th>\n",
       "      <th>ds</th>\n",
       "      <th>trend</th>\n",
       "      <th>yhat_lower</th>\n",
       "      <th>yhat_upper</th>\n",
       "      <th>trend_lower</th>\n",
       "      <th>trend_upper</th>\n",
       "      <th>additive_terms</th>\n",
       "      <th>additive_terms_lower</th>\n",
       "      <th>additive_terms_upper</th>\n",
       "      <th>daily</th>\n",
       "      <th>...</th>\n",
       "      <th>weekly</th>\n",
       "      <th>weekly_lower</th>\n",
       "      <th>weekly_upper</th>\n",
       "      <th>yearly</th>\n",
       "      <th>yearly_lower</th>\n",
       "      <th>yearly_upper</th>\n",
       "      <th>multiplicative_terms</th>\n",
       "      <th>multiplicative_terms_lower</th>\n",
       "      <th>multiplicative_terms_upper</th>\n",
       "      <th>yhat</th>\n",
       "    </tr>\n",
       "  </thead>\n",
       "  <tbody>\n",
       "    <tr>\n",
       "      <th>0</th>\n",
       "      <td>2021-07-26</td>\n",
       "      <td>139.445133</td>\n",
       "      <td>122.116430</td>\n",
       "      <td>143.102113</td>\n",
       "      <td>139.445133</td>\n",
       "      <td>139.445133</td>\n",
       "      <td>-6.766045</td>\n",
       "      <td>-6.766045</td>\n",
       "      <td>-6.766045</td>\n",
       "      <td>-1.06629</td>\n",
       "      <td>...</td>\n",
       "      <td>-0.100010</td>\n",
       "      <td>-0.100010</td>\n",
       "      <td>-0.100010</td>\n",
       "      <td>-5.599745</td>\n",
       "      <td>-5.599745</td>\n",
       "      <td>-5.599745</td>\n",
       "      <td>0.0</td>\n",
       "      <td>0.0</td>\n",
       "      <td>0.0</td>\n",
       "      <td>132.679088</td>\n",
       "    </tr>\n",
       "    <tr>\n",
       "      <th>1</th>\n",
       "      <td>2021-07-27</td>\n",
       "      <td>139.377636</td>\n",
       "      <td>122.043888</td>\n",
       "      <td>143.733858</td>\n",
       "      <td>139.377636</td>\n",
       "      <td>139.377636</td>\n",
       "      <td>-6.619853</td>\n",
       "      <td>-6.619853</td>\n",
       "      <td>-6.619853</td>\n",
       "      <td>-1.06629</td>\n",
       "      <td>...</td>\n",
       "      <td>-0.288424</td>\n",
       "      <td>-0.288424</td>\n",
       "      <td>-0.288424</td>\n",
       "      <td>-5.265139</td>\n",
       "      <td>-5.265139</td>\n",
       "      <td>-5.265139</td>\n",
       "      <td>0.0</td>\n",
       "      <td>0.0</td>\n",
       "      <td>0.0</td>\n",
       "      <td>132.757783</td>\n",
       "    </tr>\n",
       "    <tr>\n",
       "      <th>2</th>\n",
       "      <td>2021-07-28</td>\n",
       "      <td>139.310138</td>\n",
       "      <td>122.413168</td>\n",
       "      <td>143.240413</td>\n",
       "      <td>139.310138</td>\n",
       "      <td>139.310138</td>\n",
       "      <td>-6.043193</td>\n",
       "      <td>-6.043193</td>\n",
       "      <td>-6.043193</td>\n",
       "      <td>-1.06629</td>\n",
       "      <td>...</td>\n",
       "      <td>-0.043590</td>\n",
       "      <td>-0.043590</td>\n",
       "      <td>-0.043590</td>\n",
       "      <td>-4.933313</td>\n",
       "      <td>-4.933313</td>\n",
       "      <td>-4.933313</td>\n",
       "      <td>0.0</td>\n",
       "      <td>0.0</td>\n",
       "      <td>0.0</td>\n",
       "      <td>133.266945</td>\n",
       "    </tr>\n",
       "    <tr>\n",
       "      <th>3</th>\n",
       "      <td>2021-07-29</td>\n",
       "      <td>139.242641</td>\n",
       "      <td>123.230941</td>\n",
       "      <td>144.038625</td>\n",
       "      <td>139.242641</td>\n",
       "      <td>139.242641</td>\n",
       "      <td>-5.592837</td>\n",
       "      <td>-5.592837</td>\n",
       "      <td>-5.592837</td>\n",
       "      <td>-1.06629</td>\n",
       "      <td>...</td>\n",
       "      <td>0.080775</td>\n",
       "      <td>0.080775</td>\n",
       "      <td>0.080775</td>\n",
       "      <td>-4.607322</td>\n",
       "      <td>-4.607322</td>\n",
       "      <td>-4.607322</td>\n",
       "      <td>0.0</td>\n",
       "      <td>0.0</td>\n",
       "      <td>0.0</td>\n",
       "      <td>133.649804</td>\n",
       "    </tr>\n",
       "    <tr>\n",
       "      <th>4</th>\n",
       "      <td>2021-07-30</td>\n",
       "      <td>139.175143</td>\n",
       "      <td>122.560492</td>\n",
       "      <td>144.350451</td>\n",
       "      <td>139.175143</td>\n",
       "      <td>139.175143</td>\n",
       "      <td>-5.271547</td>\n",
       "      <td>-5.271547</td>\n",
       "      <td>-5.271547</td>\n",
       "      <td>-1.06629</td>\n",
       "      <td>...</td>\n",
       "      <td>0.084678</td>\n",
       "      <td>0.084678</td>\n",
       "      <td>0.084678</td>\n",
       "      <td>-4.289936</td>\n",
       "      <td>-4.289936</td>\n",
       "      <td>-4.289936</td>\n",
       "      <td>0.0</td>\n",
       "      <td>0.0</td>\n",
       "      <td>0.0</td>\n",
       "      <td>133.903596</td>\n",
       "    </tr>\n",
       "  </tbody>\n",
       "</table>\n",
       "<p>5 rows × 22 columns</p>\n",
       "</div>"
      ],
      "text/plain": [
       "          ds       trend  yhat_lower  yhat_upper  trend_lower  trend_upper  \\\n",
       "0 2021-07-26  139.445133  122.116430  143.102113   139.445133   139.445133   \n",
       "1 2021-07-27  139.377636  122.043888  143.733858   139.377636   139.377636   \n",
       "2 2021-07-28  139.310138  122.413168  143.240413   139.310138   139.310138   \n",
       "3 2021-07-29  139.242641  123.230941  144.038625   139.242641   139.242641   \n",
       "4 2021-07-30  139.175143  122.560492  144.350451   139.175143   139.175143   \n",
       "\n",
       "   additive_terms  additive_terms_lower  additive_terms_upper    daily  ...  \\\n",
       "0       -6.766045             -6.766045             -6.766045 -1.06629  ...   \n",
       "1       -6.619853             -6.619853             -6.619853 -1.06629  ...   \n",
       "2       -6.043193             -6.043193             -6.043193 -1.06629  ...   \n",
       "3       -5.592837             -5.592837             -5.592837 -1.06629  ...   \n",
       "4       -5.271547             -5.271547             -5.271547 -1.06629  ...   \n",
       "\n",
       "     weekly  weekly_lower  weekly_upper    yearly  yearly_lower  yearly_upper  \\\n",
       "0 -0.100010     -0.100010     -0.100010 -5.599745     -5.599745     -5.599745   \n",
       "1 -0.288424     -0.288424     -0.288424 -5.265139     -5.265139     -5.265139   \n",
       "2 -0.043590     -0.043590     -0.043590 -4.933313     -4.933313     -4.933313   \n",
       "3  0.080775      0.080775      0.080775 -4.607322     -4.607322     -4.607322   \n",
       "4  0.084678      0.084678      0.084678 -4.289936     -4.289936     -4.289936   \n",
       "\n",
       "   multiplicative_terms  multiplicative_terms_lower  \\\n",
       "0                   0.0                         0.0   \n",
       "1                   0.0                         0.0   \n",
       "2                   0.0                         0.0   \n",
       "3                   0.0                         0.0   \n",
       "4                   0.0                         0.0   \n",
       "\n",
       "   multiplicative_terms_upper        yhat  \n",
       "0                         0.0  132.679088  \n",
       "1                         0.0  132.757783  \n",
       "2                         0.0  133.266945  \n",
       "3                         0.0  133.649804  \n",
       "4                         0.0  133.903596  \n",
       "\n",
       "[5 rows x 22 columns]"
      ]
     },
     "execution_count": 55,
     "metadata": {},
     "output_type": "execute_result"
    }
   ],
   "source": [
    "future = m.make_future_dataframe(periods=365,freq='B')\n",
    "forecast = m.predict(future)\n",
    "forecast.head()"
   ]
  },
  {
   "cell_type": "code",
   "execution_count": 56,
   "id": "d47b358f-ac94-459e-835b-52005d549023",
   "metadata": {},
   "outputs": [
    {
     "data": {
      "image/png": "[encoded data removed]",
      "text/plain": [
       "<Figure size 1000x600 with 1 Axes>"
      ]
     },
     "metadata": {},
     "output_type": "display_data"
    }
   ],
   "source": [
    "plot1 = m.plot(forecast)"
   ]
  },
  {
   "cell_type": "markdown",
   "id": "a0858177-721c-4d9c-823a-acc60ece7cb0",
   "metadata": {},
   "source": [
    "### Rolling Evaluation with Metrics- Prophet Model"
   ]
  },
  {
   "cell_type": "code",
   "execution_count": 58,
   "id": "a473988c-8180-4eba-87d3-1656fb71d7df",
   "metadata": {},
   "outputs": [],
   "source": [
    "df_prop = df_prop.set_index('ds').asfreq('B').ffill().reset_index()"
   ]
  },
  {
   "cell_type": "code",
   "execution_count": 59,
   "id": "6b2e56ed-7cf3-464d-a13d-37dd8c545703",
   "metadata": {},
   "outputs": [],
   "source": [
    "def prophet_forecast(train_df, horizon=1):\n",
    "    m = Prophet(daily_seasonality=True)\n",
    "    m.fit(train_df)\n",
    "    future = m.make_future_dataframe(periods=horizon, freq='B')\n",
    "    forecast = m.predict(future)\n",
    "    return forecast['yhat'].tail(horizon).values"
   ]
  },
  {
   "cell_type": "code",
   "execution_count": 60,
   "id": "abae240e-d036-4f99-9a5d-d213509fb1a1",
   "metadata": {},
   "outputs": [],
   "source": [
    "def rolling_window_eval_prophet(df_prop, window_size=200, horizon=1):\n",
    "    preds, trues = [], []\n",
    "    n = len(df_prop)\n",
    "    \n",
    "    for i in range(window_size, n - horizon + 1):\n",
    "        train_df = df_prop.iloc[i - window_size:i][['ds','y']]\n",
    "        test_df = df_prop.iloc[i:i+horizon]\n",
    "        \n",
    "        forecast = prophet_forecast(train_df, horizon)\n",
    "        preds.extend(forecast)\n",
    "        trues.extend(test_df['y'].values)\n",
    "    \n",
    "    return np.array(trues), np.array(preds)"
   ]
  },
  {
   "cell_type": "code",
   "execution_count": 61,
   "id": "12137005-3ee1-414d-a2ec-2d8b65b55b2a",
   "metadata": {
    "scrolled": true
   },
   "outputs": [
    {
     "name": "stderr",
     "output_type": "stream",
     "text": [
      "19:38:03 - cmdstanpy - INFO - Chain [1] start processing\n",
      "19:38:03 - cmdstanpy - INFO - Chain [1] done processing\n",
      "19:38:04 - cmdstanpy - INFO - Chain [1] start processing\n",
      "19:38:04 - cmdstanpy - INFO - Chain [1] done processing\n",
      "19:38:04 - cmdstanpy - INFO - Chain [1] start processing\n",
      "19:38:04 - cmdstanpy - INFO - Chain [1] done processing\n",
      "19:38:04 - cmdstanpy - INFO - Chain [1] start processing\n",
      "19:38:04 - cmdstanpy - INFO - Chain [1] done processing\n",
      "19:38:04 - cmdstanpy - INFO - Chain [1] start processing\n",
      "19:38:04 - cmdstanpy - INFO - Chain [1] done processing\n",
      "19:38:04 - cmdstanpy - INFO - Chain [1] start processing\n",
      "19:38:04 - cmdstanpy - INFO - Chain [1] done processing\n",
      "19:38:04 - cmdstanpy - INFO - Chain [1] start processing\n",
      "19:38:04 - cmdstanpy - INFO - Chain [1] done processing\n",
      "19:38:05 - cmdstanpy - INFO - Chain [1] start processing\n",
      "19:38:05 - cmdstanpy - INFO - Chain [1] done processing\n",
      "19:38:05 - cmdstanpy - INFO - Chain [1] start processing\n",
      "19:38:05 - cmdstanpy - INFO - Chain [1] done processing\n",
      "19:38:05 - cmdstanpy - INFO - Chain [1] start processing\n",
      "19:38:05 - cmdstanpy - INFO - Chain [1] done processing\n",
      "19:38:05 - cmdstanpy - INFO - Chain [1] start processing\n",
      "19:38:05 - cmdstanpy - INFO - Chain [1] done processing\n",
      "19:38:05 - cmdstanpy - INFO - Chain [1] start processing\n",
      "19:38:05 - cmdstanpy - INFO - Chain [1] done processing\n",
      "19:38:05 - cmdstanpy - INFO - Chain [1] start processing\n",
      "19:38:05 - cmdstanpy - INFO - Chain [1] done processing\n",
      "19:38:05 - cmdstanpy - INFO - Chain [1] start processing\n",
      "19:38:05 - cmdstanpy - INFO - Chain [1] done processing\n",
      "19:38:06 - cmdstanpy - INFO - Chain [1] start processing\n",
      "19:38:06 - cmdstanpy - INFO - Chain [1] done processing\n",
      "19:38:06 - cmdstanpy - INFO - Chain [1] start processing\n",
      "19:38:06 - cmdstanpy - INFO - Chain [1] done processing\n",
      "19:38:06 - cmdstanpy - INFO - Chain [1] start processing\n",
      "19:38:06 - cmdstanpy - INFO - Chain [1] done processing\n",
      "19:38:06 - cmdstanpy - INFO - Chain [1] start processing\n",
      "19:38:06 - cmdstanpy - INFO - Chain [1] done processing\n",
      "19:38:06 - cmdstanpy - INFO - Chain [1] start processing\n",
      "19:38:06 - cmdstanpy - INFO - Chain [1] done processing\n",
      "19:38:06 - cmdstanpy - INFO - Chain [1] start processing\n",
      "19:38:06 - cmdstanpy - INFO - Chain [1] done processing\n",
      "19:38:06 - cmdstanpy - INFO - Chain [1] start processing\n",
      "19:38:06 - cmdstanpy - INFO - Chain [1] done processing\n",
      "19:38:07 - cmdstanpy - INFO - Chain [1] start processing\n",
      "19:38:07 - cmdstanpy - INFO - Chain [1] done processing\n",
      "19:38:07 - cmdstanpy - INFO - Chain [1] start processing\n",
      "19:38:07 - cmdstanpy - INFO - Chain [1] done processing\n",
      "19:38:07 - cmdstanpy - INFO - Chain [1] start processing\n",
      "19:38:07 - cmdstanpy - INFO - Chain [1] done processing\n",
      "19:38:07 - cmdstanpy - INFO - Chain [1] start processing\n",
      "19:38:07 - cmdstanpy - INFO - Chain [1] done processing\n",
      "19:38:07 - cmdstanpy - INFO - Chain [1] start processing\n",
      "19:38:07 - cmdstanpy - INFO - Chain [1] done processing\n",
      "19:38:07 - cmdstanpy - INFO - Chain [1] start processing\n",
      "19:38:07 - cmdstanpy - INFO - Chain [1] done processing\n",
      "19:38:07 - cmdstanpy - INFO - Chain [1] start processing\n",
      "19:38:07 - cmdstanpy - INFO - Chain [1] done processing\n",
      "19:38:08 - cmdstanpy - INFO - Chain [1] start processing\n",
      "19:38:08 - cmdstanpy - INFO - Chain [1] done processing\n",
      "19:38:08 - cmdstanpy - INFO - Chain [1] start processing\n",
      "19:38:08 - cmdstanpy - INFO - Chain [1] done processing\n",
      "19:38:08 - cmdstanpy - INFO - Chain [1] start processing\n",
      "19:38:08 - cmdstanpy - INFO - Chain [1] done processing\n",
      "19:38:08 - cmdstanpy - INFO - Chain [1] start processing\n",
      "19:38:08 - cmdstanpy - INFO - Chain [1] done processing\n",
      "19:38:08 - cmdstanpy - INFO - Chain [1] start processing\n",
      "19:38:08 - cmdstanpy - INFO - Chain [1] done processing\n",
      "19:38:08 - cmdstanpy - INFO - Chain [1] start processing\n",
      "19:38:08 - cmdstanpy - INFO - Chain [1] done processing\n",
      "19:38:08 - cmdstanpy - INFO - Chain [1] start processing\n",
      "19:38:08 - cmdstanpy - INFO - Chain [1] done processing\n",
      "19:38:09 - cmdstanpy - INFO - Chain [1] start processing\n",
      "19:38:09 - cmdstanpy - INFO - Chain [1] done processing\n",
      "19:38:09 - cmdstanpy - INFO - Chain [1] start processing\n",
      "19:38:09 - cmdstanpy - INFO - Chain [1] done processing\n",
      "19:38:09 - cmdstanpy - INFO - Chain [1] start processing\n",
      "19:38:09 - cmdstanpy - INFO - Chain [1] done processing\n",
      "19:38:09 - cmdstanpy - INFO - Chain [1] start processing\n",
      "19:38:09 - cmdstanpy - INFO - Chain [1] done processing\n",
      "19:38:09 - cmdstanpy - INFO - Chain [1] start processing\n",
      "19:38:09 - cmdstanpy - INFO - Chain [1] done processing\n",
      "19:38:09 - cmdstanpy - INFO - Chain [1] start processing\n",
      "19:38:09 - cmdstanpy - INFO - Chain [1] done processing\n",
      "19:38:09 - cmdstanpy - INFO - Chain [1] start processing\n",
      "19:38:10 - cmdstanpy - INFO - Chain [1] done processing\n",
      "19:38:10 - cmdstanpy - INFO - Chain [1] start processing\n",
      "19:38:10 - cmdstanpy - INFO - Chain [1] done processing\n",
      "19:38:10 - cmdstanpy - INFO - Chain [1] start processing\n",
      "19:38:10 - cmdstanpy - INFO - Chain [1] done processing\n",
      "19:38:10 - cmdstanpy - INFO - Chain [1] start processing\n",
      "19:38:10 - cmdstanpy - INFO - Chain [1] done processing\n",
      "19:38:10 - cmdstanpy - INFO - Chain [1] start processing\n",
      "19:38:10 - cmdstanpy - INFO - Chain [1] done processing\n",
      "19:38:10 - cmdstanpy - INFO - Chain [1] start processing\n",
      "19:38:10 - cmdstanpy - INFO - Chain [1] done processing\n",
      "19:38:10 - cmdstanpy - INFO - Chain [1] start processing\n",
      "19:38:10 - cmdstanpy - INFO - Chain [1] done processing\n",
      "19:38:11 - cmdstanpy - INFO - Chain [1] start processing\n",
      "19:38:11 - cmdstanpy - INFO - Chain [1] done processing\n",
      "19:38:11 - cmdstanpy - INFO - Chain [1] start processing\n",
      "19:38:11 - cmdstanpy - INFO - Chain [1] done processing\n",
      "19:38:11 - cmdstanpy - INFO - Chain [1] start processing\n",
      "19:38:11 - cmdstanpy - INFO - Chain [1] done processing\n",
      "19:38:11 - cmdstanpy - INFO - Chain [1] start processing\n",
      "19:38:11 - cmdstanpy - INFO - Chain [1] done processing\n",
      "19:38:11 - cmdstanpy - INFO - Chain [1] start processing\n",
      "19:38:11 - cmdstanpy - INFO - Chain [1] done processing\n",
      "19:38:11 - cmdstanpy - INFO - Chain [1] start processing\n",
      "19:38:11 - cmdstanpy - INFO - Chain [1] done processing\n",
      "19:38:11 - cmdstanpy - INFO - Chain [1] start processing\n",
      "19:38:11 - cmdstanpy - INFO - Chain [1] done processing\n",
      "19:38:12 - cmdstanpy - INFO - Chain [1] start processing\n",
      "19:38:12 - cmdstanpy - INFO - Chain [1] done processing\n",
      "19:38:12 - cmdstanpy - INFO - Chain [1] start processing\n",
      "19:38:12 - cmdstanpy - INFO - Chain [1] done processing\n",
      "19:38:12 - cmdstanpy - INFO - Chain [1] start processing\n",
      "19:38:12 - cmdstanpy - INFO - Chain [1] done processing\n",
      "19:38:12 - cmdstanpy - INFO - Chain [1] start processing\n",
      "19:38:12 - cmdstanpy - INFO - Chain [1] done processing\n",
      "19:38:12 - cmdstanpy - INFO - Chain [1] start processing\n",
      "19:38:12 - cmdstanpy - INFO - Chain [1] done processing\n",
      "19:38:12 - cmdstanpy - INFO - Chain [1] start processing\n",
      "19:38:12 - cmdstanpy - INFO - Chain [1] done processing\n",
      "19:38:12 - cmdstanpy - INFO - Chain [1] start processing\n",
      "19:38:12 - cmdstanpy - INFO - Chain [1] done processing\n",
      "19:38:13 - cmdstanpy - INFO - Chain [1] start processing\n",
      "19:38:13 - cmdstanpy - INFO - Chain [1] done processing\n",
      "19:38:13 - cmdstanpy - INFO - Chain [1] start processing\n",
      "19:38:13 - cmdstanpy - INFO - Chain [1] done processing\n",
      "19:38:13 - cmdstanpy - INFO - Chain [1] start processing\n",
      "19:38:13 - cmdstanpy - INFO - Chain [1] done processing\n",
      "19:38:13 - cmdstanpy - INFO - Chain [1] start processing\n",
      "19:38:13 - cmdstanpy - INFO - Chain [1] done processing\n",
      "19:38:13 - cmdstanpy - INFO - Chain [1] start processing\n",
      "19:38:13 - cmdstanpy - INFO - Chain [1] done processing\n",
      "19:38:13 - cmdstanpy - INFO - Chain [1] start processing\n",
      "19:38:13 - cmdstanpy - INFO - Chain [1] done processing\n",
      "19:38:13 - cmdstanpy - INFO - Chain [1] start processing\n",
      "19:38:13 - cmdstanpy - INFO - Chain [1] done processing\n",
      "19:38:14 - cmdstanpy - INFO - Chain [1] start processing\n",
      "19:38:14 - cmdstanpy - INFO - Chain [1] done processing\n",
      "19:38:14 - cmdstanpy - INFO - Chain [1] start processing\n",
      "19:38:14 - cmdstanpy - INFO - Chain [1] done processing\n",
      "19:38:14 - cmdstanpy - INFO - Chain [1] start processing\n",
      "19:38:14 - cmdstanpy - INFO - Chain [1] done processing\n",
      "19:38:14 - cmdstanpy - INFO - Chain [1] start processing\n",
      "19:38:14 - cmdstanpy - INFO - Chain [1] done processing\n",
      "19:38:14 - cmdstanpy - INFO - Chain [1] start processing\n",
      "19:38:14 - cmdstanpy - INFO - Chain [1] done processing\n",
      "19:38:14 - cmdstanpy - INFO - Chain [1] start processing\n",
      "19:38:14 - cmdstanpy - INFO - Chain [1] done processing\n",
      "19:38:14 - cmdstanpy - INFO - Chain [1] start processing\n",
      "19:38:14 - cmdstanpy - INFO - Chain [1] done processing\n",
      "19:38:15 - cmdstanpy - INFO - Chain [1] start processing\n",
      "19:38:15 - cmdstanpy - INFO - Chain [1] done processing\n",
      "19:38:15 - cmdstanpy - INFO - Chain [1] start processing\n",
      "19:38:15 - cmdstanpy - INFO - Chain [1] done processing\n",
      "19:38:15 - cmdstanpy - INFO - Chain [1] start processing\n",
      "19:38:15 - cmdstanpy - INFO - Chain [1] done processing\n",
      "19:38:15 - cmdstanpy - INFO - Chain [1] start processing\n",
      "19:38:15 - cmdstanpy - INFO - Chain [1] done processing\n",
      "19:38:15 - cmdstanpy - INFO - Chain [1] start processing\n",
      "19:38:15 - cmdstanpy - INFO - Chain [1] done processing\n",
      "19:38:15 - cmdstanpy - INFO - Chain [1] start processing\n",
      "19:38:15 - cmdstanpy - INFO - Chain [1] done processing\n",
      "19:38:15 - cmdstanpy - INFO - Chain [1] start processing\n",
      "19:38:15 - cmdstanpy - INFO - Chain [1] done processing\n",
      "19:38:16 - cmdstanpy - INFO - Chain [1] start processing\n",
      "19:38:16 - cmdstanpy - INFO - Chain [1] done processing\n",
      "19:38:16 - cmdstanpy - INFO - Chain [1] start processing\n",
      "19:38:16 - cmdstanpy - INFO - Chain [1] done processing\n",
      "19:38:16 - cmdstanpy - INFO - Chain [1] start processing\n",
      "19:38:16 - cmdstanpy - INFO - Chain [1] done processing\n",
      "19:38:16 - cmdstanpy - INFO - Chain [1] start processing\n",
      "19:38:16 - cmdstanpy - INFO - Chain [1] done processing\n",
      "19:38:16 - cmdstanpy - INFO - Chain [1] start processing\n",
      "19:38:16 - cmdstanpy - INFO - Chain [1] done processing\n",
      "19:38:16 - cmdstanpy - INFO - Chain [1] start processing\n",
      "19:38:16 - cmdstanpy - INFO - Chain [1] done processing\n",
      "19:38:16 - cmdstanpy - INFO - Chain [1] start processing\n",
      "19:38:17 - cmdstanpy - INFO - Chain [1] done processing\n",
      "19:38:17 - cmdstanpy - INFO - Chain [1] start processing\n",
      "19:38:17 - cmdstanpy - INFO - Chain [1] done processing\n",
      "19:38:17 - cmdstanpy - INFO - Chain [1] start processing\n",
      "19:38:17 - cmdstanpy - INFO - Chain [1] done processing\n",
      "19:38:17 - cmdstanpy - INFO - Chain [1] start processing\n",
      "19:38:17 - cmdstanpy - INFO - Chain [1] done processing\n",
      "19:38:17 - cmdstanpy - INFO - Chain [1] start processing\n",
      "19:38:17 - cmdstanpy - INFO - Chain [1] done processing\n",
      "19:38:17 - cmdstanpy - INFO - Chain [1] start processing\n",
      "19:38:17 - cmdstanpy - INFO - Chain [1] done processing\n",
      "19:38:17 - cmdstanpy - INFO - Chain [1] start processing\n",
      "19:38:17 - cmdstanpy - INFO - Chain [1] done processing\n",
      "19:38:18 - cmdstanpy - INFO - Chain [1] start processing\n",
      "19:38:18 - cmdstanpy - INFO - Chain [1] done processing\n",
      "19:38:18 - cmdstanpy - INFO - Chain [1] start processing\n",
      "19:38:18 - cmdstanpy - INFO - Chain [1] done processing\n",
      "19:38:18 - cmdstanpy - INFO - Chain [1] start processing\n",
      "19:38:18 - cmdstanpy - INFO - Chain [1] done processing\n",
      "19:38:18 - cmdstanpy - INFO - Chain [1] start processing\n",
      "19:38:18 - cmdstanpy - INFO - Chain [1] done processing\n",
      "19:38:18 - cmdstanpy - INFO - Chain [1] start processing\n",
      "19:38:18 - cmdstanpy - INFO - Chain [1] done processing\n",
      "19:38:18 - cmdstanpy - INFO - Chain [1] start processing\n",
      "19:38:18 - cmdstanpy - INFO - Chain [1] done processing\n",
      "19:38:18 - cmdstanpy - INFO - Chain [1] start processing\n",
      "19:38:19 - cmdstanpy - INFO - Chain [1] done processing\n",
      "19:38:19 - cmdstanpy - INFO - Chain [1] start processing\n",
      "19:38:19 - cmdstanpy - INFO - Chain [1] done processing\n",
      "19:38:19 - cmdstanpy - INFO - Chain [1] start processing\n",
      "19:38:19 - cmdstanpy - INFO - Chain [1] done processing\n",
      "19:38:19 - cmdstanpy - INFO - Chain [1] start processing\n",
      "19:38:19 - cmdstanpy - INFO - Chain [1] done processing\n",
      "19:38:19 - cmdstanpy - INFO - Chain [1] start processing\n",
      "19:38:19 - cmdstanpy - INFO - Chain [1] done processing\n",
      "19:38:19 - cmdstanpy - INFO - Chain [1] start processing\n",
      "19:38:19 - cmdstanpy - INFO - Chain [1] done processing\n",
      "19:38:19 - cmdstanpy - INFO - Chain [1] start processing\n",
      "19:38:19 - cmdstanpy - INFO - Chain [1] done processing\n",
      "19:38:20 - cmdstanpy - INFO - Chain [1] start processing\n",
      "19:38:20 - cmdstanpy - INFO - Chain [1] done processing\n",
      "19:38:20 - cmdstanpy - INFO - Chain [1] start processing\n",
      "19:38:20 - cmdstanpy - INFO - Chain [1] done processing\n",
      "19:38:20 - cmdstanpy - INFO - Chain [1] start processing\n",
      "19:38:20 - cmdstanpy - INFO - Chain [1] done processing\n",
      "19:38:20 - cmdstanpy - INFO - Chain [1] start processing\n",
      "19:38:20 - cmdstanpy - INFO - Chain [1] done processing\n",
      "19:38:20 - cmdstanpy - INFO - Chain [1] start processing\n",
      "19:38:20 - cmdstanpy - INFO - Chain [1] done processing\n",
      "19:38:20 - cmdstanpy - INFO - Chain [1] start processing\n",
      "19:38:20 - cmdstanpy - INFO - Chain [1] done processing\n",
      "19:38:20 - cmdstanpy - INFO - Chain [1] start processing\n",
      "19:38:20 - cmdstanpy - INFO - Chain [1] done processing\n",
      "19:38:21 - cmdstanpy - INFO - Chain [1] start processing\n",
      "19:38:21 - cmdstanpy - INFO - Chain [1] done processing\n",
      "19:38:21 - cmdstanpy - INFO - Chain [1] start processing\n",
      "19:38:21 - cmdstanpy - INFO - Chain [1] done processing\n",
      "19:38:21 - cmdstanpy - INFO - Chain [1] start processing\n",
      "19:38:21 - cmdstanpy - INFO - Chain [1] done processing\n",
      "19:38:21 - cmdstanpy - INFO - Chain [1] start processing\n",
      "19:38:21 - cmdstanpy - INFO - Chain [1] done processing\n",
      "19:38:21 - cmdstanpy - INFO - Chain [1] start processing\n",
      "19:38:21 - cmdstanpy - INFO - Chain [1] done processing\n",
      "19:38:21 - cmdstanpy - INFO - Chain [1] start processing\n",
      "19:38:21 - cmdstanpy - INFO - Chain [1] done processing\n",
      "19:38:21 - cmdstanpy - INFO - Chain [1] start processing\n",
      "19:38:22 - cmdstanpy - INFO - Chain [1] done processing\n",
      "19:38:22 - cmdstanpy - INFO - Chain [1] start processing\n",
      "19:38:22 - cmdstanpy - INFO - Chain [1] done processing\n",
      "19:38:22 - cmdstanpy - INFO - Chain [1] start processing\n",
      "19:38:22 - cmdstanpy - INFO - Chain [1] done processing\n",
      "19:38:22 - cmdstanpy - INFO - Chain [1] start processing\n",
      "19:38:22 - cmdstanpy - INFO - Chain [1] done processing\n",
      "19:38:22 - cmdstanpy - INFO - Chain [1] start processing\n",
      "19:38:22 - cmdstanpy - INFO - Chain [1] done processing\n",
      "19:38:22 - cmdstanpy - INFO - Chain [1] start processing\n",
      "19:38:22 - cmdstanpy - INFO - Chain [1] done processing\n",
      "19:38:22 - cmdstanpy - INFO - Chain [1] start processing\n",
      "19:38:22 - cmdstanpy - INFO - Chain [1] done processing\n",
      "19:38:23 - cmdstanpy - INFO - Chain [1] start processing\n",
      "19:38:23 - cmdstanpy - INFO - Chain [1] done processing\n",
      "19:38:23 - cmdstanpy - INFO - Chain [1] start processing\n",
      "19:38:23 - cmdstanpy - INFO - Chain [1] done processing\n",
      "19:38:23 - cmdstanpy - INFO - Chain [1] start processing\n",
      "19:38:23 - cmdstanpy - INFO - Chain [1] done processing\n",
      "19:38:23 - cmdstanpy - INFO - Chain [1] start processing\n",
      "19:38:23 - cmdstanpy - INFO - Chain [1] done processing\n",
      "19:38:23 - cmdstanpy - INFO - Chain [1] start processing\n",
      "19:38:23 - cmdstanpy - INFO - Chain [1] done processing\n",
      "19:38:23 - cmdstanpy - INFO - Chain [1] start processing\n",
      "19:38:23 - cmdstanpy - INFO - Chain [1] done processing\n",
      "19:38:23 - cmdstanpy - INFO - Chain [1] start processing\n",
      "19:38:23 - cmdstanpy - INFO - Chain [1] done processing\n",
      "19:38:24 - cmdstanpy - INFO - Chain [1] start processing\n",
      "19:38:24 - cmdstanpy - INFO - Chain [1] done processing\n",
      "19:38:24 - cmdstanpy - INFO - Chain [1] start processing\n",
      "19:38:24 - cmdstanpy - INFO - Chain [1] done processing\n",
      "19:38:24 - cmdstanpy - INFO - Chain [1] start processing\n",
      "19:38:24 - cmdstanpy - INFO - Chain [1] done processing\n",
      "19:38:24 - cmdstanpy - INFO - Chain [1] start processing\n",
      "19:38:24 - cmdstanpy - INFO - Chain [1] done processing\n",
      "19:38:24 - cmdstanpy - INFO - Chain [1] start processing\n",
      "19:38:24 - cmdstanpy - INFO - Chain [1] done processing\n",
      "19:38:24 - cmdstanpy - INFO - Chain [1] start processing\n",
      "19:38:24 - cmdstanpy - INFO - Chain [1] done processing\n",
      "19:38:24 - cmdstanpy - INFO - Chain [1] start processing\n",
      "19:38:24 - cmdstanpy - INFO - Chain [1] done processing\n",
      "19:38:25 - cmdstanpy - INFO - Chain [1] start processing\n",
      "19:38:25 - cmdstanpy - INFO - Chain [1] done processing\n",
      "19:38:25 - cmdstanpy - INFO - Chain [1] start processing\n",
      "19:38:25 - cmdstanpy - INFO - Chain [1] done processing\n",
      "19:38:25 - cmdstanpy - INFO - Chain [1] start processing\n",
      "19:38:25 - cmdstanpy - INFO - Chain [1] done processing\n",
      "19:38:25 - cmdstanpy - INFO - Chain [1] start processing\n",
      "19:38:25 - cmdstanpy - INFO - Chain [1] done processing\n",
      "19:38:25 - cmdstanpy - INFO - Chain [1] start processing\n",
      "19:38:25 - cmdstanpy - INFO - Chain [1] done processing\n",
      "19:38:25 - cmdstanpy - INFO - Chain [1] start processing\n",
      "19:38:25 - cmdstanpy - INFO - Chain [1] done processing\n",
      "19:38:26 - cmdstanpy - INFO - Chain [1] start processing\n",
      "19:38:26 - cmdstanpy - INFO - Chain [1] done processing\n",
      "19:38:26 - cmdstanpy - INFO - Chain [1] start processing\n",
      "19:38:26 - cmdstanpy - INFO - Chain [1] done processing\n",
      "19:38:26 - cmdstanpy - INFO - Chain [1] start processing\n",
      "19:38:26 - cmdstanpy - INFO - Chain [1] done processing\n",
      "19:38:26 - cmdstanpy - INFO - Chain [1] start processing\n",
      "19:38:26 - cmdstanpy - INFO - Chain [1] done processing\n",
      "19:38:26 - cmdstanpy - INFO - Chain [1] start processing\n",
      "19:38:26 - cmdstanpy - INFO - Chain [1] done processing\n",
      "19:38:26 - cmdstanpy - INFO - Chain [1] start processing\n",
      "19:38:26 - cmdstanpy - INFO - Chain [1] done processing\n",
      "19:38:26 - cmdstanpy - INFO - Chain [1] start processing\n",
      "19:38:26 - cmdstanpy - INFO - Chain [1] done processing\n",
      "19:38:27 - cmdstanpy - INFO - Chain [1] start processing\n",
      "19:38:27 - cmdstanpy - INFO - Chain [1] done processing\n",
      "19:38:27 - cmdstanpy - INFO - Chain [1] start processing\n",
      "19:38:27 - cmdstanpy - INFO - Chain [1] done processing\n",
      "19:38:27 - cmdstanpy - INFO - Chain [1] start processing\n",
      "19:38:27 - cmdstanpy - INFO - Chain [1] done processing\n",
      "19:38:27 - cmdstanpy - INFO - Chain [1] start processing\n",
      "19:38:27 - cmdstanpy - INFO - Chain [1] done processing\n",
      "19:38:27 - cmdstanpy - INFO - Chain [1] start processing\n",
      "19:38:27 - cmdstanpy - INFO - Chain [1] done processing\n",
      "19:38:27 - cmdstanpy - INFO - Chain [1] start processing\n",
      "19:38:27 - cmdstanpy - INFO - Chain [1] done processing\n",
      "19:38:27 - cmdstanpy - INFO - Chain [1] start processing\n",
      "19:38:27 - cmdstanpy - INFO - Chain [1] done processing\n",
      "19:38:28 - cmdstanpy - INFO - Chain [1] start processing\n",
      "19:38:28 - cmdstanpy - INFO - Chain [1] done processing\n",
      "19:38:28 - cmdstanpy - INFO - Chain [1] start processing\n",
      "19:38:28 - cmdstanpy - INFO - Chain [1] done processing\n",
      "19:38:28 - cmdstanpy - INFO - Chain [1] start processing\n",
      "19:38:28 - cmdstanpy - INFO - Chain [1] done processing\n",
      "19:38:28 - cmdstanpy - INFO - Chain [1] start processing\n",
      "19:38:28 - cmdstanpy - INFO - Chain [1] done processing\n",
      "19:38:28 - cmdstanpy - INFO - Chain [1] start processing\n",
      "19:38:28 - cmdstanpy - INFO - Chain [1] done processing\n",
      "19:38:28 - cmdstanpy - INFO - Chain [1] start processing\n",
      "19:38:28 - cmdstanpy - INFO - Chain [1] done processing\n",
      "19:38:28 - cmdstanpy - INFO - Chain [1] start processing\n",
      "19:38:29 - cmdstanpy - INFO - Chain [1] done processing\n",
      "19:38:29 - cmdstanpy - INFO - Chain [1] start processing\n",
      "19:38:29 - cmdstanpy - INFO - Chain [1] done processing\n",
      "19:38:29 - cmdstanpy - INFO - Chain [1] start processing\n",
      "19:38:29 - cmdstanpy - INFO - Chain [1] done processing\n",
      "19:38:29 - cmdstanpy - INFO - Chain [1] start processing\n",
      "19:38:29 - cmdstanpy - INFO - Chain [1] done processing\n",
      "19:38:29 - cmdstanpy - INFO - Chain [1] start processing\n",
      "19:38:29 - cmdstanpy - INFO - Chain [1] done processing\n",
      "19:38:29 - cmdstanpy - INFO - Chain [1] start processing\n",
      "19:38:29 - cmdstanpy - INFO - Chain [1] done processing\n",
      "19:38:29 - cmdstanpy - INFO - Chain [1] start processing\n",
      "19:38:29 - cmdstanpy - INFO - Chain [1] done processing\n",
      "19:38:30 - cmdstanpy - INFO - Chain [1] start processing\n",
      "19:38:30 - cmdstanpy - INFO - Chain [1] done processing\n",
      "19:38:30 - cmdstanpy - INFO - Chain [1] start processing\n",
      "19:38:30 - cmdstanpy - INFO - Chain [1] done processing\n",
      "19:38:30 - cmdstanpy - INFO - Chain [1] start processing\n",
      "19:38:30 - cmdstanpy - INFO - Chain [1] done processing\n",
      "19:38:30 - cmdstanpy - INFO - Chain [1] start processing\n",
      "19:38:30 - cmdstanpy - INFO - Chain [1] done processing\n",
      "19:38:30 - cmdstanpy - INFO - Chain [1] start processing\n",
      "19:38:30 - cmdstanpy - INFO - Chain [1] done processing\n",
      "19:38:30 - cmdstanpy - INFO - Chain [1] start processing\n",
      "19:38:30 - cmdstanpy - INFO - Chain [1] done processing\n",
      "19:38:30 - cmdstanpy - INFO - Chain [1] start processing\n",
      "19:38:30 - cmdstanpy - INFO - Chain [1] done processing\n",
      "19:38:31 - cmdstanpy - INFO - Chain [1] start processing\n",
      "19:38:31 - cmdstanpy - INFO - Chain [1] done processing\n",
      "19:38:31 - cmdstanpy - INFO - Chain [1] start processing\n",
      "19:38:31 - cmdstanpy - INFO - Chain [1] done processing\n",
      "19:38:31 - cmdstanpy - INFO - Chain [1] start processing\n",
      "19:38:31 - cmdstanpy - INFO - Chain [1] done processing\n",
      "19:38:31 - cmdstanpy - INFO - Chain [1] start processing\n",
      "19:38:31 - cmdstanpy - INFO - Chain [1] done processing\n",
      "19:38:31 - cmdstanpy - INFO - Chain [1] start processing\n",
      "19:38:31 - cmdstanpy - INFO - Chain [1] done processing\n",
      "19:38:31 - cmdstanpy - INFO - Chain [1] start processing\n",
      "19:38:31 - cmdstanpy - INFO - Chain [1] done processing\n",
      "19:38:31 - cmdstanpy - INFO - Chain [1] start processing\n",
      "19:38:32 - cmdstanpy - INFO - Chain [1] done processing\n",
      "19:38:32 - cmdstanpy - INFO - Chain [1] start processing\n",
      "19:38:32 - cmdstanpy - INFO - Chain [1] done processing\n",
      "19:38:32 - cmdstanpy - INFO - Chain [1] start processing\n",
      "19:38:32 - cmdstanpy - INFO - Chain [1] done processing\n",
      "19:38:32 - cmdstanpy - INFO - Chain [1] start processing\n",
      "19:38:32 - cmdstanpy - INFO - Chain [1] done processing\n",
      "19:38:32 - cmdstanpy - INFO - Chain [1] start processing\n",
      "19:38:32 - cmdstanpy - INFO - Chain [1] done processing\n",
      "19:38:32 - cmdstanpy - INFO - Chain [1] start processing\n",
      "19:38:32 - cmdstanpy - INFO - Chain [1] done processing\n",
      "19:38:32 - cmdstanpy - INFO - Chain [1] start processing\n",
      "19:38:32 - cmdstanpy - INFO - Chain [1] done processing\n",
      "19:38:32 - cmdstanpy - INFO - Chain [1] start processing\n",
      "19:38:33 - cmdstanpy - INFO - Chain [1] done processing\n",
      "19:38:33 - cmdstanpy - INFO - Chain [1] start processing\n",
      "19:38:33 - cmdstanpy - INFO - Chain [1] done processing\n",
      "19:38:33 - cmdstanpy - INFO - Chain [1] start processing\n",
      "19:38:33 - cmdstanpy - INFO - Chain [1] done processing\n",
      "19:38:33 - cmdstanpy - INFO - Chain [1] start processing\n",
      "19:38:33 - cmdstanpy - INFO - Chain [1] done processing\n",
      "19:38:33 - cmdstanpy - INFO - Chain [1] start processing\n",
      "19:38:33 - cmdstanpy - INFO - Chain [1] done processing\n",
      "19:38:33 - cmdstanpy - INFO - Chain [1] start processing\n",
      "19:38:33 - cmdstanpy - INFO - Chain [1] done processing\n",
      "19:38:33 - cmdstanpy - INFO - Chain [1] start processing\n",
      "19:38:33 - cmdstanpy - INFO - Chain [1] done processing\n",
      "19:38:34 - cmdstanpy - INFO - Chain [1] start processing\n",
      "19:38:34 - cmdstanpy - INFO - Chain [1] done processing\n",
      "19:38:34 - cmdstanpy - INFO - Chain [1] start processing\n",
      "19:38:34 - cmdstanpy - INFO - Chain [1] done processing\n",
      "19:38:34 - cmdstanpy - INFO - Chain [1] start processing\n",
      "19:38:34 - cmdstanpy - INFO - Chain [1] done processing\n",
      "19:38:34 - cmdstanpy - INFO - Chain [1] start processing\n",
      "19:38:34 - cmdstanpy - INFO - Chain [1] done processing\n",
      "19:38:34 - cmdstanpy - INFO - Chain [1] start processing\n",
      "19:38:34 - cmdstanpy - INFO - Chain [1] done processing\n",
      "19:38:34 - cmdstanpy - INFO - Chain [1] start processing\n",
      "19:38:34 - cmdstanpy - INFO - Chain [1] done processing\n",
      "19:38:34 - cmdstanpy - INFO - Chain [1] start processing\n",
      "19:38:34 - cmdstanpy - INFO - Chain [1] done processing\n",
      "19:38:35 - cmdstanpy - INFO - Chain [1] start processing\n",
      "19:38:35 - cmdstanpy - INFO - Chain [1] done processing\n",
      "19:38:35 - cmdstanpy - INFO - Chain [1] start processing\n",
      "19:38:35 - cmdstanpy - INFO - Chain [1] done processing\n",
      "19:38:35 - cmdstanpy - INFO - Chain [1] start processing\n",
      "19:38:35 - cmdstanpy - INFO - Chain [1] done processing\n",
      "19:38:35 - cmdstanpy - INFO - Chain [1] start processing\n",
      "19:38:35 - cmdstanpy - INFO - Chain [1] done processing\n",
      "19:38:35 - cmdstanpy - INFO - Chain [1] start processing\n",
      "19:38:35 - cmdstanpy - INFO - Chain [1] done processing\n",
      "19:38:35 - cmdstanpy - INFO - Chain [1] start processing\n",
      "19:38:35 - cmdstanpy - INFO - Chain [1] done processing\n",
      "19:38:35 - cmdstanpy - INFO - Chain [1] start processing\n",
      "19:38:35 - cmdstanpy - INFO - Chain [1] done processing\n",
      "19:38:36 - cmdstanpy - INFO - Chain [1] start processing\n",
      "19:38:36 - cmdstanpy - INFO - Chain [1] done processing\n",
      "19:38:36 - cmdstanpy - INFO - Chain [1] start processing\n",
      "19:38:36 - cmdstanpy - INFO - Chain [1] done processing\n",
      "19:38:36 - cmdstanpy - INFO - Chain [1] start processing\n",
      "19:38:36 - cmdstanpy - INFO - Chain [1] done processing\n",
      "19:38:36 - cmdstanpy - INFO - Chain [1] start processing\n",
      "19:38:36 - cmdstanpy - INFO - Chain [1] done processing\n",
      "19:38:36 - cmdstanpy - INFO - Chain [1] start processing\n",
      "19:38:36 - cmdstanpy - INFO - Chain [1] done processing\n",
      "19:38:36 - cmdstanpy - INFO - Chain [1] start processing\n",
      "19:38:36 - cmdstanpy - INFO - Chain [1] done processing\n",
      "19:38:36 - cmdstanpy - INFO - Chain [1] start processing\n",
      "19:38:37 - cmdstanpy - INFO - Chain [1] done processing\n",
      "19:38:37 - cmdstanpy - INFO - Chain [1] start processing\n",
      "19:38:37 - cmdstanpy - INFO - Chain [1] done processing\n",
      "19:38:37 - cmdstanpy - INFO - Chain [1] start processing\n",
      "19:38:37 - cmdstanpy - INFO - Chain [1] done processing\n",
      "19:38:37 - cmdstanpy - INFO - Chain [1] start processing\n",
      "19:38:37 - cmdstanpy - INFO - Chain [1] done processing\n",
      "19:38:37 - cmdstanpy - INFO - Chain [1] start processing\n",
      "19:38:37 - cmdstanpy - INFO - Chain [1] done processing\n",
      "19:38:37 - cmdstanpy - INFO - Chain [1] start processing\n",
      "19:38:37 - cmdstanpy - INFO - Chain [1] done processing\n",
      "19:38:37 - cmdstanpy - INFO - Chain [1] start processing\n",
      "19:38:37 - cmdstanpy - INFO - Chain [1] done processing\n",
      "19:38:38 - cmdstanpy - INFO - Chain [1] start processing\n",
      "19:38:38 - cmdstanpy - INFO - Chain [1] done processing\n",
      "19:38:38 - cmdstanpy - INFO - Chain [1] start processing\n",
      "19:38:38 - cmdstanpy - INFO - Chain [1] done processing\n",
      "19:38:38 - cmdstanpy - INFO - Chain [1] start processing\n",
      "19:38:38 - cmdstanpy - INFO - Chain [1] done processing\n",
      "19:38:38 - cmdstanpy - INFO - Chain [1] start processing\n",
      "19:38:38 - cmdstanpy - INFO - Chain [1] done processing\n",
      "19:38:38 - cmdstanpy - INFO - Chain [1] start processing\n",
      "19:38:38 - cmdstanpy - INFO - Chain [1] done processing\n",
      "19:38:38 - cmdstanpy - INFO - Chain [1] start processing\n",
      "19:38:38 - cmdstanpy - INFO - Chain [1] done processing\n",
      "19:38:38 - cmdstanpy - INFO - Chain [1] start processing\n",
      "19:38:38 - cmdstanpy - INFO - Chain [1] done processing\n",
      "19:38:39 - cmdstanpy - INFO - Chain [1] start processing\n",
      "19:38:39 - cmdstanpy - INFO - Chain [1] done processing\n",
      "19:38:39 - cmdstanpy - INFO - Chain [1] start processing\n",
      "19:38:39 - cmdstanpy - INFO - Chain [1] done processing\n",
      "19:38:39 - cmdstanpy - INFO - Chain [1] start processing\n",
      "19:38:39 - cmdstanpy - INFO - Chain [1] done processing\n",
      "19:38:39 - cmdstanpy - INFO - Chain [1] start processing\n",
      "19:38:39 - cmdstanpy - INFO - Chain [1] done processing\n",
      "19:38:39 - cmdstanpy - INFO - Chain [1] start processing\n",
      "19:38:39 - cmdstanpy - INFO - Chain [1] done processing\n",
      "19:38:39 - cmdstanpy - INFO - Chain [1] start processing\n",
      "19:38:39 - cmdstanpy - INFO - Chain [1] done processing\n",
      "19:38:40 - cmdstanpy - INFO - Chain [1] start processing\n",
      "19:38:40 - cmdstanpy - INFO - Chain [1] done processing\n",
      "19:38:40 - cmdstanpy - INFO - Chain [1] start processing\n",
      "19:38:40 - cmdstanpy - INFO - Chain [1] done processing\n",
      "19:38:40 - cmdstanpy - INFO - Chain [1] start processing\n",
      "19:38:40 - cmdstanpy - INFO - Chain [1] done processing\n",
      "19:38:40 - cmdstanpy - INFO - Chain [1] start processing\n",
      "19:38:40 - cmdstanpy - INFO - Chain [1] done processing\n",
      "19:38:40 - cmdstanpy - INFO - Chain [1] start processing\n",
      "19:38:40 - cmdstanpy - INFO - Chain [1] done processing\n",
      "19:38:40 - cmdstanpy - INFO - Chain [1] start processing\n",
      "19:38:40 - cmdstanpy - INFO - Chain [1] done processing\n",
      "19:38:40 - cmdstanpy - INFO - Chain [1] start processing\n",
      "19:38:40 - cmdstanpy - INFO - Chain [1] done processing\n",
      "19:38:41 - cmdstanpy - INFO - Chain [1] start processing\n",
      "19:38:41 - cmdstanpy - INFO - Chain [1] done processing\n",
      "19:38:41 - cmdstanpy - INFO - Chain [1] start processing\n",
      "19:38:41 - cmdstanpy - INFO - Chain [1] done processing\n",
      "19:38:41 - cmdstanpy - INFO - Chain [1] start processing\n",
      "19:38:41 - cmdstanpy - INFO - Chain [1] done processing\n",
      "19:38:41 - cmdstanpy - INFO - Chain [1] start processing\n",
      "19:38:41 - cmdstanpy - INFO - Chain [1] done processing\n",
      "19:38:41 - cmdstanpy - INFO - Chain [1] start processing\n",
      "19:38:41 - cmdstanpy - INFO - Chain [1] done processing\n",
      "19:38:41 - cmdstanpy - INFO - Chain [1] start processing\n",
      "19:38:41 - cmdstanpy - INFO - Chain [1] done processing\n",
      "19:38:41 - cmdstanpy - INFO - Chain [1] start processing\n",
      "19:38:41 - cmdstanpy - INFO - Chain [1] done processing\n",
      "19:38:42 - cmdstanpy - INFO - Chain [1] start processing\n",
      "19:38:42 - cmdstanpy - INFO - Chain [1] done processing\n",
      "19:38:42 - cmdstanpy - INFO - Chain [1] start processing\n",
      "19:38:42 - cmdstanpy - INFO - Chain [1] done processing\n",
      "19:38:42 - cmdstanpy - INFO - Chain [1] start processing\n",
      "19:38:42 - cmdstanpy - INFO - Chain [1] done processing\n",
      "19:38:42 - cmdstanpy - INFO - Chain [1] start processing\n",
      "19:38:42 - cmdstanpy - INFO - Chain [1] done processing\n",
      "19:38:42 - cmdstanpy - INFO - Chain [1] start processing\n",
      "19:38:42 - cmdstanpy - INFO - Chain [1] done processing\n",
      "19:38:42 - cmdstanpy - INFO - Chain [1] start processing\n",
      "19:38:42 - cmdstanpy - INFO - Chain [1] done processing\n",
      "19:38:43 - cmdstanpy - INFO - Chain [1] start processing\n",
      "19:38:43 - cmdstanpy - INFO - Chain [1] done processing\n",
      "19:38:43 - cmdstanpy - INFO - Chain [1] start processing\n",
      "19:38:43 - cmdstanpy - INFO - Chain [1] done processing\n",
      "19:38:43 - cmdstanpy - INFO - Chain [1] start processing\n",
      "19:38:43 - cmdstanpy - INFO - Chain [1] done processing\n",
      "19:38:43 - cmdstanpy - INFO - Chain [1] start processing\n",
      "19:38:43 - cmdstanpy - INFO - Chain [1] done processing\n",
      "19:38:43 - cmdstanpy - INFO - Chain [1] start processing\n",
      "19:38:43 - cmdstanpy - INFO - Chain [1] done processing\n",
      "19:38:43 - cmdstanpy - INFO - Chain [1] start processing\n",
      "19:38:43 - cmdstanpy - INFO - Chain [1] done processing\n",
      "19:38:43 - cmdstanpy - INFO - Chain [1] start processing\n",
      "19:38:43 - cmdstanpy - INFO - Chain [1] done processing\n",
      "19:38:44 - cmdstanpy - INFO - Chain [1] start processing\n",
      "19:38:44 - cmdstanpy - INFO - Chain [1] done processing\n",
      "19:38:44 - cmdstanpy - INFO - Chain [1] start processing\n",
      "19:38:44 - cmdstanpy - INFO - Chain [1] done processing\n",
      "19:38:44 - cmdstanpy - INFO - Chain [1] start processing\n",
      "19:38:44 - cmdstanpy - INFO - Chain [1] done processing\n",
      "19:38:44 - cmdstanpy - INFO - Chain [1] start processing\n",
      "19:38:44 - cmdstanpy - INFO - Chain [1] done processing\n",
      "19:38:44 - cmdstanpy - INFO - Chain [1] start processing\n",
      "19:38:44 - cmdstanpy - INFO - Chain [1] done processing\n",
      "19:38:44 - cmdstanpy - INFO - Chain [1] start processing\n",
      "19:38:44 - cmdstanpy - INFO - Chain [1] done processing\n",
      "19:38:44 - cmdstanpy - INFO - Chain [1] start processing\n",
      "19:38:45 - cmdstanpy - INFO - Chain [1] done processing\n",
      "19:38:45 - cmdstanpy - INFO - Chain [1] start processing\n",
      "19:38:45 - cmdstanpy - INFO - Chain [1] done processing\n",
      "19:38:45 - cmdstanpy - INFO - Chain [1] start processing\n",
      "19:38:45 - cmdstanpy - INFO - Chain [1] done processing\n",
      "19:38:45 - cmdstanpy - INFO - Chain [1] start processing\n",
      "19:38:45 - cmdstanpy - INFO - Chain [1] done processing\n",
      "19:38:45 - cmdstanpy - INFO - Chain [1] start processing\n",
      "19:38:45 - cmdstanpy - INFO - Chain [1] done processing\n",
      "19:38:45 - cmdstanpy - INFO - Chain [1] start processing\n",
      "19:38:45 - cmdstanpy - INFO - Chain [1] done processing\n",
      "19:38:45 - cmdstanpy - INFO - Chain [1] start processing\n",
      "19:38:45 - cmdstanpy - INFO - Chain [1] done processing\n",
      "19:38:46 - cmdstanpy - INFO - Chain [1] start processing\n",
      "19:38:46 - cmdstanpy - INFO - Chain [1] done processing\n",
      "19:38:46 - cmdstanpy - INFO - Chain [1] start processing\n",
      "19:38:46 - cmdstanpy - INFO - Chain [1] done processing\n",
      "19:38:46 - cmdstanpy - INFO - Chain [1] start processing\n",
      "19:38:46 - cmdstanpy - INFO - Chain [1] done processing\n",
      "19:38:46 - cmdstanpy - INFO - Chain [1] start processing\n",
      "19:38:46 - cmdstanpy - INFO - Chain [1] done processing\n",
      "19:38:46 - cmdstanpy - INFO - Chain [1] start processing\n",
      "19:38:46 - cmdstanpy - INFO - Chain [1] done processing\n",
      "19:38:46 - cmdstanpy - INFO - Chain [1] start processing\n",
      "19:38:46 - cmdstanpy - INFO - Chain [1] done processing\n",
      "19:38:46 - cmdstanpy - INFO - Chain [1] start processing\n",
      "19:38:46 - cmdstanpy - INFO - Chain [1] done processing\n",
      "19:38:47 - cmdstanpy - INFO - Chain [1] start processing\n",
      "19:38:47 - cmdstanpy - INFO - Chain [1] done processing\n",
      "19:38:47 - cmdstanpy - INFO - Chain [1] start processing\n",
      "19:38:47 - cmdstanpy - INFO - Chain [1] done processing\n",
      "19:38:47 - cmdstanpy - INFO - Chain [1] start processing\n",
      "19:38:47 - cmdstanpy - INFO - Chain [1] done processing\n",
      "19:38:47 - cmdstanpy - INFO - Chain [1] start processing\n",
      "19:38:47 - cmdstanpy - INFO - Chain [1] done processing\n",
      "19:38:47 - cmdstanpy - INFO - Chain [1] start processing\n",
      "19:38:47 - cmdstanpy - INFO - Chain [1] done processing\n",
      "19:38:47 - cmdstanpy - INFO - Chain [1] start processing\n",
      "19:38:47 - cmdstanpy - INFO - Chain [1] done processing\n",
      "19:38:47 - cmdstanpy - INFO - Chain [1] start processing\n",
      "19:38:47 - cmdstanpy - INFO - Chain [1] done processing\n",
      "19:38:48 - cmdstanpy - INFO - Chain [1] start processing\n",
      "19:38:48 - cmdstanpy - INFO - Chain [1] done processing\n",
      "19:38:48 - cmdstanpy - INFO - Chain [1] start processing\n",
      "19:38:48 - cmdstanpy - INFO - Chain [1] done processing\n",
      "19:38:48 - cmdstanpy - INFO - Chain [1] start processing\n",
      "19:38:48 - cmdstanpy - INFO - Chain [1] done processing\n",
      "19:38:48 - cmdstanpy - INFO - Chain [1] start processing\n",
      "19:38:48 - cmdstanpy - INFO - Chain [1] done processing\n",
      "19:38:48 - cmdstanpy - INFO - Chain [1] start processing\n",
      "19:38:48 - cmdstanpy - INFO - Chain [1] done processing\n",
      "19:38:48 - cmdstanpy - INFO - Chain [1] start processing\n",
      "19:38:48 - cmdstanpy - INFO - Chain [1] done processing\n",
      "19:38:48 - cmdstanpy - INFO - Chain [1] start processing\n",
      "19:38:48 - cmdstanpy - INFO - Chain [1] done processing\n",
      "19:38:49 - cmdstanpy - INFO - Chain [1] start processing\n",
      "19:38:49 - cmdstanpy - INFO - Chain [1] done processing\n",
      "19:38:49 - cmdstanpy - INFO - Chain [1] start processing\n",
      "19:38:49 - cmdstanpy - INFO - Chain [1] done processing\n",
      "19:38:49 - cmdstanpy - INFO - Chain [1] start processing\n",
      "19:38:49 - cmdstanpy - INFO - Chain [1] done processing\n",
      "19:38:49 - cmdstanpy - INFO - Chain [1] start processing\n",
      "19:38:49 - cmdstanpy - INFO - Chain [1] done processing\n",
      "19:38:49 - cmdstanpy - INFO - Chain [1] start processing\n",
      "19:38:49 - cmdstanpy - INFO - Chain [1] done processing\n",
      "19:38:49 - cmdstanpy - INFO - Chain [1] start processing\n",
      "19:38:49 - cmdstanpy - INFO - Chain [1] done processing\n",
      "19:38:50 - cmdstanpy - INFO - Chain [1] start processing\n",
      "19:38:50 - cmdstanpy - INFO - Chain [1] done processing\n",
      "19:38:50 - cmdstanpy - INFO - Chain [1] start processing\n",
      "19:38:50 - cmdstanpy - INFO - Chain [1] done processing\n",
      "19:38:50 - cmdstanpy - INFO - Chain [1] start processing\n",
      "19:38:50 - cmdstanpy - INFO - Chain [1] done processing\n",
      "19:38:50 - cmdstanpy - INFO - Chain [1] start processing\n",
      "19:38:50 - cmdstanpy - INFO - Chain [1] done processing\n",
      "19:38:50 - cmdstanpy - INFO - Chain [1] start processing\n",
      "19:38:50 - cmdstanpy - INFO - Chain [1] done processing\n",
      "19:38:50 - cmdstanpy - INFO - Chain [1] start processing\n",
      "19:38:50 - cmdstanpy - INFO - Chain [1] done processing\n",
      "19:38:50 - cmdstanpy - INFO - Chain [1] start processing\n",
      "19:38:51 - cmdstanpy - INFO - Chain [1] done processing\n",
      "19:38:51 - cmdstanpy - INFO - Chain [1] start processing\n",
      "19:38:51 - cmdstanpy - INFO - Chain [1] done processing\n",
      "19:38:51 - cmdstanpy - INFO - Chain [1] start processing\n",
      "19:38:51 - cmdstanpy - INFO - Chain [1] done processing\n",
      "19:38:51 - cmdstanpy - INFO - Chain [1] start processing\n",
      "19:38:51 - cmdstanpy - INFO - Chain [1] done processing\n",
      "19:38:51 - cmdstanpy - INFO - Chain [1] start processing\n",
      "19:38:51 - cmdstanpy - INFO - Chain [1] done processing\n",
      "19:38:51 - cmdstanpy - INFO - Chain [1] start processing\n",
      "19:38:51 - cmdstanpy - INFO - Chain [1] done processing\n",
      "19:38:51 - cmdstanpy - INFO - Chain [1] start processing\n",
      "19:38:51 - cmdstanpy - INFO - Chain [1] done processing\n",
      "19:38:52 - cmdstanpy - INFO - Chain [1] start processing\n",
      "19:38:52 - cmdstanpy - INFO - Chain [1] done processing\n",
      "19:38:52 - cmdstanpy - INFO - Chain [1] start processing\n",
      "19:38:52 - cmdstanpy - INFO - Chain [1] done processing\n",
      "19:38:52 - cmdstanpy - INFO - Chain [1] start processing\n",
      "19:38:52 - cmdstanpy - INFO - Chain [1] done processing\n",
      "19:38:52 - cmdstanpy - INFO - Chain [1] start processing\n",
      "19:38:52 - cmdstanpy - INFO - Chain [1] done processing\n",
      "19:38:52 - cmdstanpy - INFO - Chain [1] start processing\n",
      "19:38:52 - cmdstanpy - INFO - Chain [1] done processing\n",
      "19:38:52 - cmdstanpy - INFO - Chain [1] start processing\n",
      "19:38:52 - cmdstanpy - INFO - Chain [1] done processing\n",
      "19:38:53 - cmdstanpy - INFO - Chain [1] start processing\n",
      "19:38:53 - cmdstanpy - INFO - Chain [1] done processing\n",
      "19:38:53 - cmdstanpy - INFO - Chain [1] start processing\n",
      "19:38:53 - cmdstanpy - INFO - Chain [1] done processing\n",
      "19:38:53 - cmdstanpy - INFO - Chain [1] start processing\n",
      "19:38:53 - cmdstanpy - INFO - Chain [1] done processing\n",
      "19:38:53 - cmdstanpy - INFO - Chain [1] start processing\n",
      "19:38:53 - cmdstanpy - INFO - Chain [1] done processing\n",
      "19:38:53 - cmdstanpy - INFO - Chain [1] start processing\n",
      "19:38:53 - cmdstanpy - INFO - Chain [1] done processing\n",
      "19:38:53 - cmdstanpy - INFO - Chain [1] start processing\n",
      "19:38:53 - cmdstanpy - INFO - Chain [1] done processing\n",
      "19:38:53 - cmdstanpy - INFO - Chain [1] start processing\n",
      "19:38:53 - cmdstanpy - INFO - Chain [1] done processing\n",
      "19:38:54 - cmdstanpy - INFO - Chain [1] start processing\n",
      "19:38:54 - cmdstanpy - INFO - Chain [1] done processing\n",
      "19:38:54 - cmdstanpy - INFO - Chain [1] start processing\n",
      "19:38:54 - cmdstanpy - INFO - Chain [1] done processing\n",
      "19:38:54 - cmdstanpy - INFO - Chain [1] start processing\n",
      "19:38:54 - cmdstanpy - INFO - Chain [1] done processing\n",
      "19:38:54 - cmdstanpy - INFO - Chain [1] start processing\n",
      "19:38:54 - cmdstanpy - INFO - Chain [1] done processing\n",
      "19:38:54 - cmdstanpy - INFO - Chain [1] start processing\n",
      "19:38:54 - cmdstanpy - INFO - Chain [1] done processing\n",
      "19:38:54 - cmdstanpy - INFO - Chain [1] start processing\n",
      "19:38:54 - cmdstanpy - INFO - Chain [1] done processing\n",
      "19:38:54 - cmdstanpy - INFO - Chain [1] start processing\n",
      "19:38:55 - cmdstanpy - INFO - Chain [1] done processing\n",
      "19:38:55 - cmdstanpy - INFO - Chain [1] start processing\n",
      "19:38:55 - cmdstanpy - INFO - Chain [1] done processing\n",
      "19:38:55 - cmdstanpy - INFO - Chain [1] start processing\n",
      "19:38:55 - cmdstanpy - INFO - Chain [1] done processing\n",
      "19:38:55 - cmdstanpy - INFO - Chain [1] start processing\n",
      "19:38:55 - cmdstanpy - INFO - Chain [1] done processing\n",
      "19:38:55 - cmdstanpy - INFO - Chain [1] start processing\n",
      "19:38:55 - cmdstanpy - INFO - Chain [1] done processing\n",
      "19:38:55 - cmdstanpy - INFO - Chain [1] start processing\n",
      "19:38:55 - cmdstanpy - INFO - Chain [1] done processing\n",
      "19:38:55 - cmdstanpy - INFO - Chain [1] start processing\n",
      "19:38:55 - cmdstanpy - INFO - Chain [1] done processing\n",
      "19:38:56 - cmdstanpy - INFO - Chain [1] start processing\n",
      "19:38:56 - cmdstanpy - INFO - Chain [1] done processing\n",
      "19:38:56 - cmdstanpy - INFO - Chain [1] start processing\n",
      "19:38:56 - cmdstanpy - INFO - Chain [1] done processing\n",
      "19:38:56 - cmdstanpy - INFO - Chain [1] start processing\n",
      "19:38:56 - cmdstanpy - INFO - Chain [1] done processing\n",
      "19:38:56 - cmdstanpy - INFO - Chain [1] start processing\n",
      "19:38:56 - cmdstanpy - INFO - Chain [1] done processing\n",
      "19:38:56 - cmdstanpy - INFO - Chain [1] start processing\n",
      "19:38:56 - cmdstanpy - INFO - Chain [1] done processing\n",
      "19:38:56 - cmdstanpy - INFO - Chain [1] start processing\n",
      "19:38:56 - cmdstanpy - INFO - Chain [1] done processing\n",
      "19:38:56 - cmdstanpy - INFO - Chain [1] start processing\n",
      "19:38:56 - cmdstanpy - INFO - Chain [1] done processing\n",
      "19:38:57 - cmdstanpy - INFO - Chain [1] start processing\n",
      "19:38:57 - cmdstanpy - INFO - Chain [1] done processing\n",
      "19:38:57 - cmdstanpy - INFO - Chain [1] start processing\n",
      "19:38:57 - cmdstanpy - INFO - Chain [1] done processing\n",
      "19:38:57 - cmdstanpy - INFO - Chain [1] start processing\n",
      "19:38:57 - cmdstanpy - INFO - Chain [1] done processing\n",
      "19:38:57 - cmdstanpy - INFO - Chain [1] start processing\n",
      "19:38:57 - cmdstanpy - INFO - Chain [1] done processing\n",
      "19:38:57 - cmdstanpy - INFO - Chain [1] start processing\n",
      "19:38:57 - cmdstanpy - INFO - Chain [1] done processing\n",
      "19:38:57 - cmdstanpy - INFO - Chain [1] start processing\n",
      "19:38:57 - cmdstanpy - INFO - Chain [1] done processing\n",
      "19:38:58 - cmdstanpy - INFO - Chain [1] start processing\n",
      "19:38:58 - cmdstanpy - INFO - Chain [1] done processing\n",
      "19:38:58 - cmdstanpy - INFO - Chain [1] start processing\n",
      "19:38:58 - cmdstanpy - INFO - Chain [1] done processing\n",
      "19:38:58 - cmdstanpy - INFO - Chain [1] start processing\n",
      "19:38:58 - cmdstanpy - INFO - Chain [1] done processing\n",
      "19:38:58 - cmdstanpy - INFO - Chain [1] start processing\n",
      "19:38:58 - cmdstanpy - INFO - Chain [1] done processing\n",
      "19:38:58 - cmdstanpy - INFO - Chain [1] start processing\n",
      "19:38:58 - cmdstanpy - INFO - Chain [1] done processing\n",
      "19:38:58 - cmdstanpy - INFO - Chain [1] start processing\n",
      "19:38:58 - cmdstanpy - INFO - Chain [1] done processing\n",
      "19:38:58 - cmdstanpy - INFO - Chain [1] start processing\n",
      "19:38:59 - cmdstanpy - INFO - Chain [1] done processing\n",
      "19:38:59 - cmdstanpy - INFO - Chain [1] start processing\n",
      "19:38:59 - cmdstanpy - INFO - Chain [1] done processing\n",
      "19:38:59 - cmdstanpy - INFO - Chain [1] start processing\n",
      "19:38:59 - cmdstanpy - INFO - Chain [1] done processing\n",
      "19:38:59 - cmdstanpy - INFO - Chain [1] start processing\n",
      "19:38:59 - cmdstanpy - INFO - Chain [1] done processing\n",
      "19:38:59 - cmdstanpy - INFO - Chain [1] start processing\n",
      "19:38:59 - cmdstanpy - INFO - Chain [1] done processing\n",
      "19:38:59 - cmdstanpy - INFO - Chain [1] start processing\n",
      "19:38:59 - cmdstanpy - INFO - Chain [1] done processing\n",
      "19:39:00 - cmdstanpy - INFO - Chain [1] start processing\n",
      "19:39:00 - cmdstanpy - INFO - Chain [1] done processing\n",
      "19:39:00 - cmdstanpy - INFO - Chain [1] start processing\n",
      "19:39:00 - cmdstanpy - INFO - Chain [1] done processing\n",
      "19:39:00 - cmdstanpy - INFO - Chain [1] start processing\n",
      "19:39:00 - cmdstanpy - INFO - Chain [1] done processing\n",
      "19:39:00 - cmdstanpy - INFO - Chain [1] start processing\n",
      "19:39:00 - cmdstanpy - INFO - Chain [1] done processing\n",
      "19:39:00 - cmdstanpy - INFO - Chain [1] start processing\n",
      "19:39:00 - cmdstanpy - INFO - Chain [1] done processing\n",
      "19:39:00 - cmdstanpy - INFO - Chain [1] start processing\n",
      "19:39:00 - cmdstanpy - INFO - Chain [1] done processing\n",
      "19:39:01 - cmdstanpy - INFO - Chain [1] start processing\n",
      "19:39:01 - cmdstanpy - INFO - Chain [1] done processing\n",
      "19:39:01 - cmdstanpy - INFO - Chain [1] start processing\n",
      "19:39:01 - cmdstanpy - INFO - Chain [1] done processing\n",
      "19:39:01 - cmdstanpy - INFO - Chain [1] start processing\n",
      "19:39:01 - cmdstanpy - INFO - Chain [1] done processing\n",
      "19:39:01 - cmdstanpy - INFO - Chain [1] start processing\n",
      "19:39:01 - cmdstanpy - INFO - Chain [1] done processing\n",
      "19:39:01 - cmdstanpy - INFO - Chain [1] start processing\n",
      "19:39:01 - cmdstanpy - INFO - Chain [1] done processing\n",
      "19:39:01 - cmdstanpy - INFO - Chain [1] start processing\n",
      "19:39:01 - cmdstanpy - INFO - Chain [1] done processing\n",
      "19:39:02 - cmdstanpy - INFO - Chain [1] start processing\n",
      "19:39:02 - cmdstanpy - INFO - Chain [1] done processing\n",
      "19:39:02 - cmdstanpy - INFO - Chain [1] start processing\n",
      "19:39:02 - cmdstanpy - INFO - Chain [1] done processing\n",
      "19:39:02 - cmdstanpy - INFO - Chain [1] start processing\n",
      "19:39:02 - cmdstanpy - INFO - Chain [1] done processing\n",
      "19:39:02 - cmdstanpy - INFO - Chain [1] start processing\n",
      "19:39:02 - cmdstanpy - INFO - Chain [1] done processing\n",
      "19:39:02 - cmdstanpy - INFO - Chain [1] start processing\n",
      "19:39:02 - cmdstanpy - INFO - Chain [1] done processing\n",
      "19:39:02 - cmdstanpy - INFO - Chain [1] start processing\n",
      "19:39:02 - cmdstanpy - INFO - Chain [1] done processing\n",
      "19:39:02 - cmdstanpy - INFO - Chain [1] start processing\n",
      "19:39:03 - cmdstanpy - INFO - Chain [1] done processing\n",
      "19:39:03 - cmdstanpy - INFO - Chain [1] start processing\n",
      "19:39:03 - cmdstanpy - INFO - Chain [1] done processing\n",
      "19:39:03 - cmdstanpy - INFO - Chain [1] start processing\n",
      "19:39:03 - cmdstanpy - INFO - Chain [1] done processing\n",
      "19:39:03 - cmdstanpy - INFO - Chain [1] start processing\n",
      "19:39:03 - cmdstanpy - INFO - Chain [1] done processing\n",
      "19:39:03 - cmdstanpy - INFO - Chain [1] start processing\n",
      "19:39:03 - cmdstanpy - INFO - Chain [1] done processing\n",
      "19:39:03 - cmdstanpy - INFO - Chain [1] start processing\n",
      "19:39:03 - cmdstanpy - INFO - Chain [1] done processing\n",
      "19:39:03 - cmdstanpy - INFO - Chain [1] start processing\n",
      "19:39:03 - cmdstanpy - INFO - Chain [1] done processing\n",
      "19:39:04 - cmdstanpy - INFO - Chain [1] start processing\n",
      "19:39:04 - cmdstanpy - INFO - Chain [1] done processing\n",
      "19:39:04 - cmdstanpy - INFO - Chain [1] start processing\n",
      "19:39:04 - cmdstanpy - INFO - Chain [1] done processing\n",
      "19:39:04 - cmdstanpy - INFO - Chain [1] start processing\n",
      "19:39:04 - cmdstanpy - INFO - Chain [1] done processing\n",
      "19:39:04 - cmdstanpy - INFO - Chain [1] start processing\n",
      "19:39:04 - cmdstanpy - INFO - Chain [1] done processing\n",
      "19:39:04 - cmdstanpy - INFO - Chain [1] start processing\n",
      "19:39:04 - cmdstanpy - INFO - Chain [1] done processing\n",
      "19:39:04 - cmdstanpy - INFO - Chain [1] start processing\n",
      "19:39:04 - cmdstanpy - INFO - Chain [1] done processing\n",
      "19:39:05 - cmdstanpy - INFO - Chain [1] start processing\n",
      "19:39:05 - cmdstanpy - INFO - Chain [1] done processing\n",
      "19:39:05 - cmdstanpy - INFO - Chain [1] start processing\n",
      "19:39:05 - cmdstanpy - INFO - Chain [1] done processing\n",
      "19:39:05 - cmdstanpy - INFO - Chain [1] start processing\n",
      "19:39:05 - cmdstanpy - INFO - Chain [1] done processing\n",
      "19:39:05 - cmdstanpy - INFO - Chain [1] start processing\n",
      "19:39:05 - cmdstanpy - INFO - Chain [1] done processing\n",
      "19:39:05 - cmdstanpy - INFO - Chain [1] start processing\n",
      "19:39:05 - cmdstanpy - INFO - Chain [1] done processing\n",
      "19:39:05 - cmdstanpy - INFO - Chain [1] start processing\n",
      "19:39:05 - cmdstanpy - INFO - Chain [1] done processing\n",
      "19:39:05 - cmdstanpy - INFO - Chain [1] start processing\n",
      "19:39:06 - cmdstanpy - INFO - Chain [1] done processing\n",
      "19:39:06 - cmdstanpy - INFO - Chain [1] start processing\n",
      "19:39:06 - cmdstanpy - INFO - Chain [1] done processing\n",
      "19:39:06 - cmdstanpy - INFO - Chain [1] start processing\n",
      "19:39:06 - cmdstanpy - INFO - Chain [1] done processing\n",
      "19:39:06 - cmdstanpy - INFO - Chain [1] start processing\n",
      "19:39:06 - cmdstanpy - INFO - Chain [1] done processing\n",
      "19:39:06 - cmdstanpy - INFO - Chain [1] start processing\n",
      "19:39:06 - cmdstanpy - INFO - Chain [1] done processing\n",
      "19:39:06 - cmdstanpy - INFO - Chain [1] start processing\n",
      "19:39:06 - cmdstanpy - INFO - Chain [1] done processing\n",
      "19:39:06 - cmdstanpy - INFO - Chain [1] start processing\n",
      "19:39:06 - cmdstanpy - INFO - Chain [1] done processing\n",
      "19:39:07 - cmdstanpy - INFO - Chain [1] start processing\n",
      "19:39:07 - cmdstanpy - INFO - Chain [1] done processing\n",
      "19:39:07 - cmdstanpy - INFO - Chain [1] start processing\n",
      "19:39:07 - cmdstanpy - INFO - Chain [1] done processing\n",
      "19:39:07 - cmdstanpy - INFO - Chain [1] start processing\n",
      "19:39:07 - cmdstanpy - INFO - Chain [1] done processing\n",
      "19:39:07 - cmdstanpy - INFO - Chain [1] start processing\n",
      "19:39:07 - cmdstanpy - INFO - Chain [1] done processing\n",
      "19:39:07 - cmdstanpy - INFO - Chain [1] start processing\n",
      "19:39:07 - cmdstanpy - INFO - Chain [1] done processing\n",
      "19:39:07 - cmdstanpy - INFO - Chain [1] start processing\n",
      "19:39:07 - cmdstanpy - INFO - Chain [1] done processing\n",
      "19:39:08 - cmdstanpy - INFO - Chain [1] start processing\n",
      "19:39:08 - cmdstanpy - INFO - Chain [1] done processing\n",
      "19:39:08 - cmdstanpy - INFO - Chain [1] start processing\n",
      "19:39:08 - cmdstanpy - INFO - Chain [1] done processing\n",
      "19:39:08 - cmdstanpy - INFO - Chain [1] start processing\n",
      "19:39:08 - cmdstanpy - INFO - Chain [1] done processing\n",
      "19:39:08 - cmdstanpy - INFO - Chain [1] start processing\n",
      "19:39:08 - cmdstanpy - INFO - Chain [1] done processing\n",
      "19:39:08 - cmdstanpy - INFO - Chain [1] start processing\n",
      "19:39:08 - cmdstanpy - INFO - Chain [1] done processing\n",
      "19:39:08 - cmdstanpy - INFO - Chain [1] start processing\n",
      "19:39:08 - cmdstanpy - INFO - Chain [1] done processing\n",
      "19:39:08 - cmdstanpy - INFO - Chain [1] start processing\n",
      "19:39:09 - cmdstanpy - INFO - Chain [1] done processing\n",
      "19:39:09 - cmdstanpy - INFO - Chain [1] start processing\n",
      "19:39:09 - cmdstanpy - INFO - Chain [1] done processing\n",
      "19:39:09 - cmdstanpy - INFO - Chain [1] start processing\n",
      "19:39:09 - cmdstanpy - INFO - Chain [1] done processing\n",
      "19:39:09 - cmdstanpy - INFO - Chain [1] start processing\n",
      "19:39:09 - cmdstanpy - INFO - Chain [1] done processing\n",
      "19:39:09 - cmdstanpy - INFO - Chain [1] start processing\n",
      "19:39:09 - cmdstanpy - INFO - Chain [1] done processing\n",
      "19:39:09 - cmdstanpy - INFO - Chain [1] start processing\n",
      "19:39:09 - cmdstanpy - INFO - Chain [1] done processing\n",
      "19:39:09 - cmdstanpy - INFO - Chain [1] start processing\n",
      "19:39:09 - cmdstanpy - INFO - Chain [1] done processing\n",
      "19:39:10 - cmdstanpy - INFO - Chain [1] start processing\n",
      "19:39:10 - cmdstanpy - INFO - Chain [1] done processing\n",
      "19:39:10 - cmdstanpy - INFO - Chain [1] start processing\n",
      "19:39:10 - cmdstanpy - INFO - Chain [1] done processing\n",
      "19:39:10 - cmdstanpy - INFO - Chain [1] start processing\n",
      "19:39:10 - cmdstanpy - INFO - Chain [1] done processing\n",
      "19:39:10 - cmdstanpy - INFO - Chain [1] start processing\n",
      "19:39:10 - cmdstanpy - INFO - Chain [1] done processing\n",
      "19:39:10 - cmdstanpy - INFO - Chain [1] start processing\n",
      "19:39:10 - cmdstanpy - INFO - Chain [1] done processing\n",
      "19:39:10 - cmdstanpy - INFO - Chain [1] start processing\n",
      "19:39:10 - cmdstanpy - INFO - Chain [1] done processing\n",
      "19:39:10 - cmdstanpy - INFO - Chain [1] start processing\n",
      "19:39:10 - cmdstanpy - INFO - Chain [1] done processing\n",
      "19:39:11 - cmdstanpy - INFO - Chain [1] start processing\n",
      "19:39:11 - cmdstanpy - INFO - Chain [1] done processing\n",
      "19:39:11 - cmdstanpy - INFO - Chain [1] start processing\n",
      "19:39:11 - cmdstanpy - INFO - Chain [1] done processing\n",
      "19:39:11 - cmdstanpy - INFO - Chain [1] start processing\n",
      "19:39:11 - cmdstanpy - INFO - Chain [1] done processing\n",
      "19:39:11 - cmdstanpy - INFO - Chain [1] start processing\n",
      "19:39:11 - cmdstanpy - INFO - Chain [1] done processing\n",
      "19:39:11 - cmdstanpy - INFO - Chain [1] start processing\n",
      "19:39:11 - cmdstanpy - INFO - Chain [1] done processing\n",
      "19:39:11 - cmdstanpy - INFO - Chain [1] start processing\n",
      "19:39:11 - cmdstanpy - INFO - Chain [1] done processing\n",
      "19:39:11 - cmdstanpy - INFO - Chain [1] start processing\n",
      "19:39:11 - cmdstanpy - INFO - Chain [1] done processing\n",
      "19:39:12 - cmdstanpy - INFO - Chain [1] start processing\n",
      "19:39:12 - cmdstanpy - INFO - Chain [1] done processing\n",
      "19:39:12 - cmdstanpy - INFO - Chain [1] start processing\n",
      "19:39:12 - cmdstanpy - INFO - Chain [1] done processing\n",
      "19:39:12 - cmdstanpy - INFO - Chain [1] start processing\n",
      "19:39:12 - cmdstanpy - INFO - Chain [1] done processing\n",
      "19:39:12 - cmdstanpy - INFO - Chain [1] start processing\n",
      "19:39:12 - cmdstanpy - INFO - Chain [1] done processing\n",
      "19:39:12 - cmdstanpy - INFO - Chain [1] start processing\n",
      "19:39:12 - cmdstanpy - INFO - Chain [1] done processing\n",
      "19:39:12 - cmdstanpy - INFO - Chain [1] start processing\n",
      "19:39:12 - cmdstanpy - INFO - Chain [1] done processing\n",
      "19:39:12 - cmdstanpy - INFO - Chain [1] start processing\n",
      "19:39:12 - cmdstanpy - INFO - Chain [1] done processing\n",
      "19:39:13 - cmdstanpy - INFO - Chain [1] start processing\n",
      "19:39:13 - cmdstanpy - INFO - Chain [1] done processing\n",
      "19:39:13 - cmdstanpy - INFO - Chain [1] start processing\n",
      "19:39:13 - cmdstanpy - INFO - Chain [1] done processing\n",
      "19:39:13 - cmdstanpy - INFO - Chain [1] start processing\n",
      "19:39:13 - cmdstanpy - INFO - Chain [1] done processing\n",
      "19:39:13 - cmdstanpy - INFO - Chain [1] start processing\n",
      "19:39:13 - cmdstanpy - INFO - Chain [1] done processing\n",
      "19:39:13 - cmdstanpy - INFO - Chain [1] start processing\n",
      "19:39:13 - cmdstanpy - INFO - Chain [1] done processing\n"
     ]
    }
   ],
   "source": [
    "prophet_trues, prophet_preds = rolling_window_eval_prophet(df_prop, window_size=200, horizon=1)"
   ]
  },
  {
   "cell_type": "code",
   "execution_count": 62,
   "id": "dc39ee23-683a-4d0c-8d30-eed93a716c7d",
   "metadata": {},
   "outputs": [],
   "source": [
    "prop_rmse = sqrt(mean_squared_error(prophet_trues, prophet_preds))\n",
    "prop_mape = mean_absolute_percentage_error(prophet_trues, prophet_preds)"
   ]
  },
  {
   "cell_type": "code",
   "execution_count": 66,
   "id": "c7735af8-3cd8-4ff3-aa5e-d24320ad8e8c",
   "metadata": {},
   "outputs": [
    {
     "name": "stdout",
     "output_type": "stream",
     "text": [
      "Prophet -> RMSE: 5.3216%, MAPE: 6.1375\n"
     ]
    }
   ],
   "source": [
    "print(f\"Prophet -> RMSE: {prop_rmse:.4f}%, MAPE: {prop_mape:.4f}\")"
   ]
  },
  {
   "cell_type": "code",
   "execution_count": 68,
   "id": "8d277d2c-1733-4304-9cee-c49e53a31713",
   "metadata": {},
   "outputs": [
    {
     "data": {
      "image/png": "[encoded data removed]",
      "text/plain": [
       "<Figure size 1200x600 with 1 Axes>"
      ]
     },
     "metadata": {},
     "output_type": "display_data"
    }
   ],
   "source": [
    "# Plot Rolling Window Forecast vs Actual\n",
    "plt.figure(figsize=(12,6))\n",
    "plt.plot(df_prop['ds'][-len(prophet_trues):], prophet_trues, \n",
    "         label='Actual', color='blue')\n",
    "plt.plot(df_prop['ds'][-len(prophet_preds):], prophet_preds, \n",
    "         label='Rolling Window Forecast', color='red', alpha=0.8)\n",
    "\n",
    "plt.title(\"Prophet Rolling Window Forecast vs Actual\", fontsize=14)\n",
    "plt.xlabel(\"Date\")\n",
    "plt.ylabel(\"Close Price\")\n",
    "plt.legend()\n",
    "plt.grid(True, linestyle='--', alpha=0.6)\n",
    "plt.show()"
   ]
  },
  {
   "cell_type": "markdown",
   "id": "5515d2d5-53f8-49a4-87d9-d934ed1869f2",
   "metadata": {},
   "source": [
    "### Prediction for Next 365 days "
   ]
  },
  {
   "cell_type": "code",
   "execution_count": 71,
   "id": "6dad4eeb-a4bf-4dd1-8cad-3c1d510f1725",
   "metadata": {},
   "outputs": [
    {
     "name": "stderr",
     "output_type": "stream",
     "text": [
      "19:39:57 - cmdstanpy - INFO - Chain [1] start processing\n",
      "19:39:57 - cmdstanpy - INFO - Chain [1] done processing\n"
     ]
    }
   ],
   "source": [
    "m = Prophet(interval_width=0.95, daily_seasonality=True)\n",
    "model = m.fit(df_prop)"
   ]
  },
  {
   "cell_type": "code",
   "execution_count": 73,
   "id": "e1a29ed7-8cd9-4809-bbcd-1e7aff3a270c",
   "metadata": {},
   "outputs": [
    {
     "data": {
      "text/html": [
       "<div>\n",
       "<style scoped>\n",
       "    .dataframe tbody tr th:only-of-type {\n",
       "        vertical-align: middle;\n",
       "    }\n",
       "\n",
       "    .dataframe tbody tr th {\n",
       "        vertical-align: top;\n",
       "    }\n",
       "\n",
       "    .dataframe thead th {\n",
       "        text-align: right;\n",
       "    }\n",
       "</style>\n",
       "<table border=\"1\" class=\"dataframe\">\n",
       "  <thead>\n",
       "    <tr style=\"text-align: right;\">\n",
       "      <th></th>\n",
       "      <th>ds</th>\n",
       "      <th>trend</th>\n",
       "      <th>yhat_lower</th>\n",
       "      <th>yhat_upper</th>\n",
       "      <th>trend_lower</th>\n",
       "      <th>trend_upper</th>\n",
       "      <th>additive_terms</th>\n",
       "      <th>additive_terms_lower</th>\n",
       "      <th>additive_terms_upper</th>\n",
       "      <th>daily</th>\n",
       "      <th>...</th>\n",
       "      <th>weekly</th>\n",
       "      <th>weekly_lower</th>\n",
       "      <th>weekly_upper</th>\n",
       "      <th>yearly</th>\n",
       "      <th>yearly_lower</th>\n",
       "      <th>yearly_upper</th>\n",
       "      <th>multiplicative_terms</th>\n",
       "      <th>multiplicative_terms_lower</th>\n",
       "      <th>multiplicative_terms_upper</th>\n",
       "      <th>yhat</th>\n",
       "    </tr>\n",
       "  </thead>\n",
       "  <tbody>\n",
       "    <tr>\n",
       "      <th>0</th>\n",
       "      <td>2021-07-26</td>\n",
       "      <td>139.263032</td>\n",
       "      <td>121.717491</td>\n",
       "      <td>142.526387</td>\n",
       "      <td>139.263032</td>\n",
       "      <td>139.263032</td>\n",
       "      <td>-7.100925</td>\n",
       "      <td>-7.100925</td>\n",
       "      <td>-7.100925</td>\n",
       "      <td>-1.609162</td>\n",
       "      <td>...</td>\n",
       "      <td>-0.181913</td>\n",
       "      <td>-0.181913</td>\n",
       "      <td>-0.181913</td>\n",
       "      <td>-5.309850</td>\n",
       "      <td>-5.309850</td>\n",
       "      <td>-5.309850</td>\n",
       "      <td>0.0</td>\n",
       "      <td>0.0</td>\n",
       "      <td>0.0</td>\n",
       "      <td>132.162107</td>\n",
       "    </tr>\n",
       "    <tr>\n",
       "      <th>1</th>\n",
       "      <td>2021-07-27</td>\n",
       "      <td>139.211080</td>\n",
       "      <td>121.883830</td>\n",
       "      <td>143.581114</td>\n",
       "      <td>139.211080</td>\n",
       "      <td>139.211080</td>\n",
       "      <td>-6.863310</td>\n",
       "      <td>-6.863310</td>\n",
       "      <td>-6.863310</td>\n",
       "      <td>-1.609162</td>\n",
       "      <td>...</td>\n",
       "      <td>-0.282063</td>\n",
       "      <td>-0.282063</td>\n",
       "      <td>-0.282063</td>\n",
       "      <td>-4.972086</td>\n",
       "      <td>-4.972086</td>\n",
       "      <td>-4.972086</td>\n",
       "      <td>0.0</td>\n",
       "      <td>0.0</td>\n",
       "      <td>0.0</td>\n",
       "      <td>132.347770</td>\n",
       "    </tr>\n",
       "    <tr>\n",
       "      <th>2</th>\n",
       "      <td>2021-07-28</td>\n",
       "      <td>139.159129</td>\n",
       "      <td>122.840657</td>\n",
       "      <td>143.669568</td>\n",
       "      <td>139.159129</td>\n",
       "      <td>139.159129</td>\n",
       "      <td>-6.324516</td>\n",
       "      <td>-6.324516</td>\n",
       "      <td>-6.324516</td>\n",
       "      <td>-1.609162</td>\n",
       "      <td>...</td>\n",
       "      <td>-0.078858</td>\n",
       "      <td>-0.078858</td>\n",
       "      <td>-0.078858</td>\n",
       "      <td>-4.636496</td>\n",
       "      <td>-4.636496</td>\n",
       "      <td>-4.636496</td>\n",
       "      <td>0.0</td>\n",
       "      <td>0.0</td>\n",
       "      <td>0.0</td>\n",
       "      <td>132.834613</td>\n",
       "    </tr>\n",
       "    <tr>\n",
       "      <th>3</th>\n",
       "      <td>2021-07-29</td>\n",
       "      <td>139.107177</td>\n",
       "      <td>121.988590</td>\n",
       "      <td>143.708039</td>\n",
       "      <td>139.107177</td>\n",
       "      <td>139.107177</td>\n",
       "      <td>-5.869811</td>\n",
       "      <td>-5.869811</td>\n",
       "      <td>-5.869811</td>\n",
       "      <td>-1.609162</td>\n",
       "      <td>...</td>\n",
       "      <td>0.045575</td>\n",
       "      <td>0.045575</td>\n",
       "      <td>0.045575</td>\n",
       "      <td>-4.306224</td>\n",
       "      <td>-4.306224</td>\n",
       "      <td>-4.306224</td>\n",
       "      <td>0.0</td>\n",
       "      <td>0.0</td>\n",
       "      <td>0.0</td>\n",
       "      <td>133.237366</td>\n",
       "    </tr>\n",
       "    <tr>\n",
       "      <th>4</th>\n",
       "      <td>2021-07-30</td>\n",
       "      <td>139.055225</td>\n",
       "      <td>123.109476</td>\n",
       "      <td>144.242562</td>\n",
       "      <td>139.055225</td>\n",
       "      <td>139.055225</td>\n",
       "      <td>-5.498353</td>\n",
       "      <td>-5.498353</td>\n",
       "      <td>-5.498353</td>\n",
       "      <td>-1.609162</td>\n",
       "      <td>...</td>\n",
       "      <td>0.094969</td>\n",
       "      <td>0.094969</td>\n",
       "      <td>0.094969</td>\n",
       "      <td>-3.984161</td>\n",
       "      <td>-3.984161</td>\n",
       "      <td>-3.984161</td>\n",
       "      <td>0.0</td>\n",
       "      <td>0.0</td>\n",
       "      <td>0.0</td>\n",
       "      <td>133.556872</td>\n",
       "    </tr>\n",
       "  </tbody>\n",
       "</table>\n",
       "<p>5 rows × 22 columns</p>\n",
       "</div>"
      ],
      "text/plain": [
       "          ds       trend  yhat_lower  yhat_upper  trend_lower  trend_upper  \\\n",
       "0 2021-07-26  139.263032  121.717491  142.526387   139.263032   139.263032   \n",
       "1 2021-07-27  139.211080  121.883830  143.581114   139.211080   139.211080   \n",
       "2 2021-07-28  139.159129  122.840657  143.669568   139.159129   139.159129   \n",
       "3 2021-07-29  139.107177  121.988590  143.708039   139.107177   139.107177   \n",
       "4 2021-07-30  139.055225  123.109476  144.242562   139.055225   139.055225   \n",
       "\n",
       "   additive_terms  additive_terms_lower  additive_terms_upper     daily  ...  \\\n",
       "0       -7.100925             -7.100925             -7.100925 -1.609162  ...   \n",
       "1       -6.863310             -6.863310             -6.863310 -1.609162  ...   \n",
       "2       -6.324516             -6.324516             -6.324516 -1.609162  ...   \n",
       "3       -5.869811             -5.869811             -5.869811 -1.609162  ...   \n",
       "4       -5.498353             -5.498353             -5.498353 -1.609162  ...   \n",
       "\n",
       "     weekly  weekly_lower  weekly_upper    yearly  yearly_lower  yearly_upper  \\\n",
       "0 -0.181913     -0.181913     -0.181913 -5.309850     -5.309850     -5.309850   \n",
       "1 -0.282063     -0.282063     -0.282063 -4.972086     -4.972086     -4.972086   \n",
       "2 -0.078858     -0.078858     -0.078858 -4.636496     -4.636496     -4.636496   \n",
       "3  0.045575      0.045575      0.045575 -4.306224     -4.306224     -4.306224   \n",
       "4  0.094969      0.094969      0.094969 -3.984161     -3.984161     -3.984161   \n",
       "\n",
       "   multiplicative_terms  multiplicative_terms_lower  \\\n",
       "0                   0.0                         0.0   \n",
       "1                   0.0                         0.0   \n",
       "2                   0.0                         0.0   \n",
       "3                   0.0                         0.0   \n",
       "4                   0.0                         0.0   \n",
       "\n",
       "   multiplicative_terms_upper        yhat  \n",
       "0                         0.0  132.162107  \n",
       "1                         0.0  132.347770  \n",
       "2                         0.0  132.834613  \n",
       "3                         0.0  133.237366  \n",
       "4                         0.0  133.556872  \n",
       "\n",
       "[5 rows x 22 columns]"
      ]
     },
     "execution_count": 73,
     "metadata": {},
     "output_type": "execute_result"
    }
   ],
   "source": [
    "future = m.make_future_dataframe(periods=365,freq='B')\n",
    "forecast = m.predict(future)\n",
    "forecast.head()"
   ]
  },
  {
   "cell_type": "code",
   "execution_count": 75,
   "id": "6093e01e-6ff1-436d-917d-af26d36be8fb",
   "metadata": {},
   "outputs": [
    {
     "data": {
      "text/plain": [
       "<matplotlib.collections.PolyCollection at 0x2497a34f380>"
      ]
     },
     "execution_count": 75,
     "metadata": {},
     "output_type": "execute_result"
    },
    {
     "data": {
      "image/png": "[encoded data removed]",
      "text/plain": [
       "<Figure size 1200x600 with 1 Axes>"
      ]
     },
     "metadata": {},
     "output_type": "display_data"
    }
   ],
   "source": [
    "plt.figure(figsize=(12,6))\n",
    "plt.plot(df_prop['ds'], df_prop['y'], label=\"Actual\", color='blue')\n",
    "plt.plot(forecast['ds'], forecast['yhat'], label=\"Forecast\", color='red')\n",
    "plt.fill_between(forecast['ds'], forecast['yhat_lower'], forecast['yhat_upper'], \n",
    "                 color='green', alpha=0.3, label=\"Uncertainty Interval\")"
   ]
  },
  {
   "cell_type": "code",
   "execution_count": 77,
   "id": "cd678e68-c918-4ced-b9bf-b32db0af03a7",
   "metadata": {},
   "outputs": [
    {
     "name": "stdout",
     "output_type": "stream",
     "text": [
      "     Model      RMSE      MAPE\n",
      "0    ARIMA  2.543295  2.527910\n",
      "1  Prophet  5.321644  6.137466\n"
     ]
    }
   ],
   "source": [
    "results = pd.DataFrame({\n",
    "    \"Model\": [\"ARIMA\", \"Prophet\"],\n",
    "    \"RMSE\": [arima_rmse, prop_rmse],\n",
    "    \"MAPE\": [arima_mape, prop_mape]\n",
    "})\n",
    "print(results)"
   ]
  },
  {
   "cell_type": "code",
   "execution_count": 98,
   "id": "77cbe44d-a633-45c3-9698-f61525b05613",
   "metadata": {},
   "outputs": [
    {
     "data": {
      "application/vnd.plotly.v1+json": {
       "config": {
        "plotlyServerURL": "https://plot.ly"
       },
       "data": [
        {
         "cells": {
          "align": "center",
          "fill": {
           "color": "lavender"
          },
          "values": [
           [
            "ARIMA",
            "Prophet"
           ],
           [
            2.5433,
            5.3216
           ],
           [
            2.5279,
            6.1375
           ]
          ]
         },
         "header": {
          "align": "center",
          "fill": {
           "color": "lightblue"
          },
          "values": [
           "Model",
           "RMSE",
           "MAPE"
          ]
         },
         "type": "table"
        }
       ],
       "layout": {
        "height": 300,
        "template": {
         "data": {
          "bar": [
           {
            "error_x": {
             "color": "#2a3f5f"
            },
            "error_y": {
             "color": "#2a3f5f"
            },
            "marker": {
             "line": {
              "color": "#E5ECF6",
              "width": 0.5
             },
             "pattern": {
              "fillmode": "overlay",
              "size": 10,
              "solidity": 0.2
             }
            },
            "type": "bar"
           }
          ],
          "barpolar": [
           {
            "marker": {
             "line": {
              "color": "#E5ECF6",
              "width": 0.5
             },
             "pattern": {
              "fillmode": "overlay",
              "size": 10,
              "solidity": 0.2
             }
            },
            "type": "barpolar"
           }
          ],
          "carpet": [
           {
            "aaxis": {
             "endlinecolor": "#2a3f5f",
             "gridcolor": "white",
             "linecolor": "white",
             "minorgridcolor": "white",
             "startlinecolor": "#2a3f5f"
            },
            "baxis": {
             "endlinecolor": "#2a3f5f",
             "gridcolor": "white",
             "linecolor": "white",
             "minorgridcolor": "white",
             "startlinecolor": "#2a3f5f"
            },
            "type": "carpet"
           }
          ],
          "choropleth": [
           {
            "colorbar": {
             "outlinewidth": 0,
             "ticks": ""
            },
            "type": "choropleth"
           }
          ],
          "contour": [
           {
            "colorbar": {
             "outlinewidth": 0,
             "ticks": ""
            },
            "colorscale": [
             [
              0,
              "#0d0887"
             ],
             [
              0.1111111111111111,
              "#46039f"
             ],
             [
              0.2222222222222222,
              "#7201a8"
             ],
             [
              0.3333333333333333,
              "#9c179e"
             ],
             [
              0.4444444444444444,
              "#bd3786"
             ],
             [
              0.5555555555555556,
              "#d8576b"
             ],
             [
              0.6666666666666666,
              "#ed7953"
             ],
             [
              0.7777777777777778,
              "#fb9f3a"
             ],
             [
              0.8888888888888888,
              "#fdca26"
             ],
             [
              1,
              "#f0f921"
             ]
            ],
            "type": "contour"
           }
          ],
          "contourcarpet": [
           {
            "colorbar": {
             "outlinewidth": 0,
             "ticks": ""
            },
            "type": "contourcarpet"
           }
          ],
          "heatmap": [
           {
            "colorbar": {
             "outlinewidth": 0,
             "ticks": ""
            },
            "colorscale": [
             [
              0,
              "#0d0887"
             ],
             [
              0.1111111111111111,
              "#46039f"
             ],
             [
              0.2222222222222222,
              "#7201a8"
             ],
             [
              0.3333333333333333,
              "#9c179e"
             ],
             [
              0.4444444444444444,
              "#bd3786"
             ],
             [
              0.5555555555555556,
              "#d8576b"
             ],
             [
              0.6666666666666666,
              "#ed7953"
             ],
             [
              0.7777777777777778,
              "#fb9f3a"
             ],
             [
              0.8888888888888888,
              "#fdca26"
             ],
             [
              1,
              "#f0f921"
             ]
            ],
            "type": "heatmap"
           }
          ],
          "heatmapgl": [
           {
            "colorbar": {
             "outlinewidth": 0,
             "ticks": ""
            },
            "colorscale": [
             [
              0,
              "#0d0887"
             ],
             [
              0.1111111111111111,
              "#46039f"
             ],
             [
              0.2222222222222222,
              "#7201a8"
             ],
             [
              0.3333333333333333,
              "#9c179e"
             ],
             [
              0.4444444444444444,
              "#bd3786"
             ],
             [
              0.5555555555555556,
              "#d8576b"
             ],
             [
              0.6666666666666666,
              "#ed7953"
             ],
             [
              0.7777777777777778,
              "#fb9f3a"
             ],
             [
              0.8888888888888888,
              "#fdca26"
             ],
             [
              1,
              "#f0f921"
             ]
            ],
            "type": "heatmapgl"
           }
          ],
          "histogram": [
           {
            "marker": {
             "pattern": {
              "fillmode": "overlay",
              "size": 10,
              "solidity": 0.2
             }
            },
            "type": "histogram"
           }
          ],
          "histogram2d": [
           {
            "colorbar": {
             "outlinewidth": 0,
             "ticks": ""
            },
            "colorscale": [
             [
              0,
              "#0d0887"
             ],
             [
              0.1111111111111111,
              "#46039f"
             ],
             [
              0.2222222222222222,
              "#7201a8"
             ],
             [
              0.3333333333333333,
              "#9c179e"
             ],
             [
              0.4444444444444444,
              "#bd3786"
             ],
             [
              0.5555555555555556,
              "#d8576b"
             ],
             [
              0.6666666666666666,
              "#ed7953"
             ],
             [
              0.7777777777777778,
              "#fb9f3a"
             ],
             [
              0.8888888888888888,
              "#fdca26"
             ],
             [
              1,
              "#f0f921"
             ]
            ],
            "type": "histogram2d"
           }
          ],
          "histogram2dcontour": [
           {
            "colorbar": {
             "outlinewidth": 0,
             "ticks": ""
            },
            "colorscale": [
             [
              0,
              "#0d0887"
             ],
             [
              0.1111111111111111,
              "#46039f"
             ],
             [
              0.2222222222222222,
              "#7201a8"
             ],
             [
              0.3333333333333333,
              "#9c179e"
             ],
             [
              0.4444444444444444,
              "#bd3786"
             ],
             [
              0.5555555555555556,
              "#d8576b"
             ],
             [
              0.6666666666666666,
              "#ed7953"
             ],
             [
              0.7777777777777778,
              "#fb9f3a"
             ],
             [
              0.8888888888888888,
              "#fdca26"
             ],
             [
              1,
              "#f0f921"
             ]
            ],
            "type": "histogram2dcontour"
           }
          ],
          "mesh3d": [
           {
            "colorbar": {
             "outlinewidth": 0,
             "ticks": ""
            },
            "type": "mesh3d"
           }
          ],
          "parcoords": [
           {
            "line": {
             "colorbar": {
              "outlinewidth": 0,
              "ticks": ""
             }
            },
            "type": "parcoords"
           }
          ],
          "pie": [
           {
            "automargin": true,
            "type": "pie"
           }
          ],
          "scatter": [
           {
            "fillpattern": {
             "fillmode": "overlay",
             "size": 10,
             "solidity": 0.2
            },
            "type": "scatter"
           }
          ],
          "scatter3d": [
           {
            "line": {
             "colorbar": {
              "outlinewidth": 0,
              "ticks": ""
             }
            },
            "marker": {
             "colorbar": {
              "outlinewidth": 0,
              "ticks": ""
             }
            },
            "type": "scatter3d"
           }
          ],
          "scattercarpet": [
           {
            "marker": {
             "colorbar": {
              "outlinewidth": 0,
              "ticks": ""
             }
            },
            "type": "scattercarpet"
           }
          ],
          "scattergeo": [
           {
            "marker": {
             "colorbar": {
              "outlinewidth": 0,
              "ticks": ""
             }
            },
            "type": "scattergeo"
           }
          ],
          "scattergl": [
           {
            "marker": {
             "colorbar": {
              "outlinewidth": 0,
              "ticks": ""
             }
            },
            "type": "scattergl"
           }
          ],
          "scattermapbox": [
           {
            "marker": {
             "colorbar": {
              "outlinewidth": 0,
              "ticks": ""
             }
            },
            "type": "scattermapbox"
           }
          ],
          "scatterpolar": [
           {
            "marker": {
             "colorbar": {
              "outlinewidth": 0,
              "ticks": ""
             }
            },
            "type": "scatterpolar"
           }
          ],
          "scatterpolargl": [
           {
            "marker": {
             "colorbar": {
              "outlinewidth": 0,
              "ticks": ""
             }
            },
            "type": "scatterpolargl"
           }
          ],
          "scatterternary": [
           {
            "marker": {
             "colorbar": {
              "outlinewidth": 0,
              "ticks": ""
             }
            },
            "type": "scatterternary"
           }
          ],
          "surface": [
           {
            "colorbar": {
             "outlinewidth": 0,
             "ticks": ""
            },
            "colorscale": [
             [
              0,
              "#0d0887"
             ],
             [
              0.1111111111111111,
              "#46039f"
             ],
             [
              0.2222222222222222,
              "#7201a8"
             ],
             [
              0.3333333333333333,
              "#9c179e"
             ],
             [
              0.4444444444444444,
              "#bd3786"
             ],
             [
              0.5555555555555556,
              "#d8576b"
             ],
             [
              0.6666666666666666,
              "#ed7953"
             ],
             [
              0.7777777777777778,
              "#fb9f3a"
             ],
             [
              0.8888888888888888,
              "#fdca26"
             ],
             [
              1,
              "#f0f921"
             ]
            ],
            "type": "surface"
           }
          ],
          "table": [
           {
            "cells": {
             "fill": {
              "color": "#EBF0F8"
             },
             "line": {
              "color": "white"
             }
            },
            "header": {
             "fill": {
              "color": "#C8D4E3"
             },
             "line": {
              "color": "white"
             }
            },
            "type": "table"
           }
          ]
         },
         "layout": {
          "annotationdefaults": {
           "arrowcolor": "#2a3f5f",
           "arrowhead": 0,
           "arrowwidth": 1
          },
          "autotypenumbers": "strict",
          "coloraxis": {
           "colorbar": {
            "outlinewidth": 0,
            "ticks": ""
           }
          },
          "colorscale": {
           "diverging": [
            [
             0,
             "#8e0152"
            ],
            [
             0.1,
             "#c51b7d"
            ],
            [
             0.2,
             "#de77ae"
            ],
            [
             0.3,
             "#f1b6da"
            ],
            [
             0.4,
             "#fde0ef"
            ],
            [
             0.5,
             "#f7f7f7"
            ],
            [
             0.6,
             "#e6f5d0"
            ],
            [
             0.7,
             "#b8e186"
            ],
            [
             0.8,
             "#7fbc41"
            ],
            [
             0.9,
             "#4d9221"
            ],
            [
             1,
             "#276419"
            ]
           ],
           "sequential": [
            [
             0,
             "#0d0887"
            ],
            [
             0.1111111111111111,
             "#46039f"
            ],
            [
             0.2222222222222222,
             "#7201a8"
            ],
            [
             0.3333333333333333,
             "#9c179e"
            ],
            [
             0.4444444444444444,
             "#bd3786"
            ],
            [
             0.5555555555555556,
             "#d8576b"
            ],
            [
             0.6666666666666666,
             "#ed7953"
            ],
            [
             0.7777777777777778,
             "#fb9f3a"
            ],
            [
             0.8888888888888888,
             "#fdca26"
            ],
            [
             1,
             "#f0f921"
            ]
           ],
           "sequentialminus": [
            [
             0,
             "#0d0887"
            ],
            [
             0.1111111111111111,
             "#46039f"
            ],
            [
             0.2222222222222222,
             "#7201a8"
            ],
            [
             0.3333333333333333,
             "#9c179e"
            ],
            [
             0.4444444444444444,
             "#bd3786"
            ],
            [
             0.5555555555555556,
             "#d8576b"
            ],
            [
             0.6666666666666666,
             "#ed7953"
            ],
            [
             0.7777777777777778,
             "#fb9f3a"
            ],
            [
             0.8888888888888888,
             "#fdca26"
            ],
            [
             1,
             "#f0f921"
            ]
           ]
          },
          "colorway": [
           "#636efa",
           "#EF553B",
           "#00cc96",
           "#ab63fa",
           "#FFA15A",
           "#19d3f3",
           "#FF6692",
           "#B6E880",
           "#FF97FF",
           "#FECB52"
          ],
          "font": {
           "color": "#2a3f5f"
          },
          "geo": {
           "bgcolor": "white",
           "lakecolor": "white",
           "landcolor": "#E5ECF6",
           "showlakes": true,
           "showland": true,
           "subunitcolor": "white"
          },
          "hoverlabel": {
           "align": "left"
          },
          "hovermode": "closest",
          "mapbox": {
           "style": "light"
          },
          "paper_bgcolor": "white",
          "plot_bgcolor": "#E5ECF6",
          "polar": {
           "angularaxis": {
            "gridcolor": "white",
            "linecolor": "white",
            "ticks": ""
           },
           "bgcolor": "#E5ECF6",
           "radialaxis": {
            "gridcolor": "white",
            "linecolor": "white",
            "ticks": ""
           }
          },
          "scene": {
           "xaxis": {
            "backgroundcolor": "#E5ECF6",
            "gridcolor": "white",
            "gridwidth": 2,
            "linecolor": "white",
            "showbackground": true,
            "ticks": "",
            "zerolinecolor": "white"
           },
           "yaxis": {
            "backgroundcolor": "#E5ECF6",
            "gridcolor": "white",
            "gridwidth": 2,
            "linecolor": "white",
            "showbackground": true,
            "ticks": "",
            "zerolinecolor": "white"
           },
           "zaxis": {
            "backgroundcolor": "#E5ECF6",
            "gridcolor": "white",
            "gridwidth": 2,
            "linecolor": "white",
            "showbackground": true,
            "ticks": "",
            "zerolinecolor": "white"
           }
          },
          "shapedefaults": {
           "line": {
            "color": "#2a3f5f"
           }
          },
          "ternary": {
           "aaxis": {
            "gridcolor": "white",
            "linecolor": "white",
            "ticks": ""
           },
           "baxis": {
            "gridcolor": "white",
            "linecolor": "white",
            "ticks": ""
           },
           "bgcolor": "#E5ECF6",
           "caxis": {
            "gridcolor": "white",
            "linecolor": "white",
            "ticks": ""
           }
          },
          "title": {
           "x": 0.05
          },
          "xaxis": {
           "automargin": true,
           "gridcolor": "white",
           "linecolor": "white",
           "ticks": "",
           "title": {
            "standoff": 15
           },
           "zerolinecolor": "white",
           "zerolinewidth": 2
          },
          "yaxis": {
           "automargin": true,
           "gridcolor": "white",
           "linecolor": "white",
           "ticks": "",
           "title": {
            "standoff": 15
           },
           "zerolinecolor": "white",
           "zerolinewidth": 2
          }
         }
        },
        "title": {
         "text": "Performance Comparison Table"
        },
        "width": 700
       }
      },
      "image/png": "[encoded data removed]",
      "text/html": [
       "<div>                            <div id=\"2cabb0d7-7704-4bf1-9b10-e62054795d48\" class=\"plotly-graph-div\" style=\"height:300px; width:700px;\"></div>            <script type=\"text/javascript\">                require([\"plotly\"], function(Plotly) {                    window.PLOTLYENV=window.PLOTLYENV || {};                                    if (document.getElementById(\"2cabb0d7-7704-4bf1-9b10-e62054795d48\")) {                    Plotly.newPlot(                        \"2cabb0d7-7704-4bf1-9b10-e62054795d48\",                        [{\"cells\":{\"align\":\"center\",\"fill\":{\"color\":\"lavender\"},\"values\":[[\"ARIMA\",\"Prophet\"],[2.5433,5.3216],[2.5279,6.1375]]},\"header\":{\"align\":\"center\",\"fill\":{\"color\":\"lightblue\"},\"values\":[\"Model\",\"RMSE\",\"MAPE\"]},\"type\":\"table\"}],                        {\"template\":{\"data\":{\"histogram2dcontour\":[{\"type\":\"histogram2dcontour\",\"colorbar\":{\"outlinewidth\":0,\"ticks\":\"\"},\"colorscale\":[[0.0,\"#0d0887\"],[0.1111111111111111,\"#46039f\"],[0.2222222222222222,\"#7201a8\"],[0.3333333333333333,\"#9c179e\"],[0.4444444444444444,\"#bd3786\"],[0.5555555555555556,\"#d8576b\"],[0.6666666666666666,\"#ed7953\"],[0.7777777777777778,\"#fb9f3a\"],[0.8888888888888888,\"#fdca26\"],[1.0,\"#f0f921\"]]}],\"choropleth\":[{\"type\":\"choropleth\",\"colorbar\":{\"outlinewidth\":0,\"ticks\":\"\"}}],\"histogram2d\":[{\"type\":\"histogram2d\",\"colorbar\":{\"outlinewidth\":0,\"ticks\":\"\"},\"colorscale\":[[0.0,\"#0d0887\"],[0.1111111111111111,\"#46039f\"],[0.2222222222222222,\"#7201a8\"],[0.3333333333333333,\"#9c179e\"],[0.4444444444444444,\"#bd3786\"],[0.5555555555555556,\"#d8576b\"],[0.6666666666666666,\"#ed7953\"],[0.7777777777777778,\"#fb9f3a\"],[0.8888888888888888,\"#fdca26\"],[1.0,\"#f0f921\"]]}],\"heatmap\":[{\"type\":\"heatmap\",\"colorbar\":{\"outlinewidth\":0,\"ticks\":\"\"},\"colorscale\":[[0.0,\"#0d0887\"],[0.1111111111111111,\"#46039f\"],[0.2222222222222222,\"#7201a8\"],[0.3333333333333333,\"#9c179e\"],[0.4444444444444444,\"#bd3786\"],[0.5555555555555556,\"#d8576b\"],[0.6666666666666666,\"#ed7953\"],[0.7777777777777778,\"#fb9f3a\"],[0.8888888888888888,\"#fdca26\"],[1.0,\"#f0f921\"]]}],\"heatmapgl\":[{\"type\":\"heatmapgl\",\"colorbar\":{\"outlinewidth\":0,\"ticks\":\"\"},\"colorscale\":[[0.0,\"#0d0887\"],[0.1111111111111111,\"#46039f\"],[0.2222222222222222,\"#7201a8\"],[0.3333333333333333,\"#9c179e\"],[0.4444444444444444,\"#bd3786\"],[0.5555555555555556,\"#d8576b\"],[0.6666666666666666,\"#ed7953\"],[0.7777777777777778,\"#fb9f3a\"],[0.8888888888888888,\"#fdca26\"],[1.0,\"#f0f921\"]]}],\"contourcarpet\":[{\"type\":\"contourcarpet\",\"colorbar\":{\"outlinewidth\":0,\"ticks\":\"\"}}],\"contour\":[{\"type\":\"contour\",\"colorbar\":{\"outlinewidth\":0,\"ticks\":\"\"},\"colorscale\":[[0.0,\"#0d0887\"],[0.1111111111111111,\"#46039f\"],[0.2222222222222222,\"#7201a8\"],[0.3333333333333333,\"#9c179e\"],[0.4444444444444444,\"#bd3786\"],[0.5555555555555556,\"#d8576b\"],[0.6666666666666666,\"#ed7953\"],[0.7777777777777778,\"#fb9f3a\"],[0.8888888888888888,\"#fdca26\"],[1.0,\"#f0f921\"]]}],\"surface\":[{\"type\":\"surface\",\"colorbar\":{\"outlinewidth\":0,\"ticks\":\"\"},\"colorscale\":[[0.0,\"#0d0887\"],[0.1111111111111111,\"#46039f\"],[0.2222222222222222,\"#7201a8\"],[0.3333333333333333,\"#9c179e\"],[0.4444444444444444,\"#bd3786\"],[0.5555555555555556,\"#d8576b\"],[0.6666666666666666,\"#ed7953\"],[0.7777777777777778,\"#fb9f3a\"],[0.8888888888888888,\"#fdca26\"],[1.0,\"#f0f921\"]]}],\"mesh3d\":[{\"type\":\"mesh3d\",\"colorbar\":{\"outlinewidth\":0,\"ticks\":\"\"}}],\"scatter\":[{\"fillpattern\":{\"fillmode\":\"overlay\",\"size\":10,\"solidity\":0.2},\"type\":\"scatter\"}],\"parcoords\":[{\"type\":\"parcoords\",\"line\":{\"colorbar\":{\"outlinewidth\":0,\"ticks\":\"\"}}}],\"scatterpolargl\":[{\"type\":\"scatterpolargl\",\"marker\":{\"colorbar\":{\"outlinewidth\":0,\"ticks\":\"\"}}}],\"bar\":[{\"error_x\":{\"color\":\"#2a3f5f\"},\"error_y\":{\"color\":\"#2a3f5f\"},\"marker\":{\"line\":{\"color\":\"#E5ECF6\",\"width\":0.5},\"pattern\":{\"fillmode\":\"overlay\",\"size\":10,\"solidity\":0.2}},\"type\":\"bar\"}],\"scattergeo\":[{\"type\":\"scattergeo\",\"marker\":{\"colorbar\":{\"outlinewidth\":0,\"ticks\":\"\"}}}],\"scatterpolar\":[{\"type\":\"scatterpolar\",\"marker\":{\"colorbar\":{\"outlinewidth\":0,\"ticks\":\"\"}}}],\"histogram\":[{\"marker\":{\"pattern\":{\"fillmode\":\"overlay\",\"size\":10,\"solidity\":0.2}},\"type\":\"histogram\"}],\"scattergl\":[{\"type\":\"scattergl\",\"marker\":{\"colorbar\":{\"outlinewidth\":0,\"ticks\":\"\"}}}],\"scatter3d\":[{\"type\":\"scatter3d\",\"line\":{\"colorbar\":{\"outlinewidth\":0,\"ticks\":\"\"}},\"marker\":{\"colorbar\":{\"outlinewidth\":0,\"ticks\":\"\"}}}],\"scattermapbox\":[{\"type\":\"scattermapbox\",\"marker\":{\"colorbar\":{\"outlinewidth\":0,\"ticks\":\"\"}}}],\"scatterternary\":[{\"type\":\"scatterternary\",\"marker\":{\"colorbar\":{\"outlinewidth\":0,\"ticks\":\"\"}}}],\"scattercarpet\":[{\"type\":\"scattercarpet\",\"marker\":{\"colorbar\":{\"outlinewidth\":0,\"ticks\":\"\"}}}],\"carpet\":[{\"aaxis\":{\"endlinecolor\":\"#2a3f5f\",\"gridcolor\":\"white\",\"linecolor\":\"white\",\"minorgridcolor\":\"white\",\"startlinecolor\":\"#2a3f5f\"},\"baxis\":{\"endlinecolor\":\"#2a3f5f\",\"gridcolor\":\"white\",\"linecolor\":\"white\",\"minorgridcolor\":\"white\",\"startlinecolor\":\"#2a3f5f\"},\"type\":\"carpet\"}],\"table\":[{\"cells\":{\"fill\":{\"color\":\"#EBF0F8\"},\"line\":{\"color\":\"white\"}},\"header\":{\"fill\":{\"color\":\"#C8D4E3\"},\"line\":{\"color\":\"white\"}},\"type\":\"table\"}],\"barpolar\":[{\"marker\":{\"line\":{\"color\":\"#E5ECF6\",\"width\":0.5},\"pattern\":{\"fillmode\":\"overlay\",\"size\":10,\"solidity\":0.2}},\"type\":\"barpolar\"}],\"pie\":[{\"automargin\":true,\"type\":\"pie\"}]},\"layout\":{\"autotypenumbers\":\"strict\",\"colorway\":[\"#636efa\",\"#EF553B\",\"#00cc96\",\"#ab63fa\",\"#FFA15A\",\"#19d3f3\",\"#FF6692\",\"#B6E880\",\"#FF97FF\",\"#FECB52\"],\"font\":{\"color\":\"#2a3f5f\"},\"hovermode\":\"closest\",\"hoverlabel\":{\"align\":\"left\"},\"paper_bgcolor\":\"white\",\"plot_bgcolor\":\"#E5ECF6\",\"polar\":{\"bgcolor\":\"#E5ECF6\",\"angularaxis\":{\"gridcolor\":\"white\",\"linecolor\":\"white\",\"ticks\":\"\"},\"radialaxis\":{\"gridcolor\":\"white\",\"linecolor\":\"white\",\"ticks\":\"\"}},\"ternary\":{\"bgcolor\":\"#E5ECF6\",\"aaxis\":{\"gridcolor\":\"white\",\"linecolor\":\"white\",\"ticks\":\"\"},\"baxis\":{\"gridcolor\":\"white\",\"linecolor\":\"white\",\"ticks\":\"\"},\"caxis\":{\"gridcolor\":\"white\",\"linecolor\":\"white\",\"ticks\":\"\"}},\"coloraxis\":{\"colorbar\":{\"outlinewidth\":0,\"ticks\":\"\"}},\"colorscale\":{\"sequential\":[[0.0,\"#0d0887\"],[0.1111111111111111,\"#46039f\"],[0.2222222222222222,\"#7201a8\"],[0.3333333333333333,\"#9c179e\"],[0.4444444444444444,\"#bd3786\"],[0.5555555555555556,\"#d8576b\"],[0.6666666666666666,\"#ed7953\"],[0.7777777777777778,\"#fb9f3a\"],[0.8888888888888888,\"#fdca26\"],[1.0,\"#f0f921\"]],\"sequentialminus\":[[0.0,\"#0d0887\"],[0.1111111111111111,\"#46039f\"],[0.2222222222222222,\"#7201a8\"],[0.3333333333333333,\"#9c179e\"],[0.4444444444444444,\"#bd3786\"],[0.5555555555555556,\"#d8576b\"],[0.6666666666666666,\"#ed7953\"],[0.7777777777777778,\"#fb9f3a\"],[0.8888888888888888,\"#fdca26\"],[1.0,\"#f0f921\"]],\"diverging\":[[0,\"#8e0152\"],[0.1,\"#c51b7d\"],[0.2,\"#de77ae\"],[0.3,\"#f1b6da\"],[0.4,\"#fde0ef\"],[0.5,\"#f7f7f7\"],[0.6,\"#e6f5d0\"],[0.7,\"#b8e186\"],[0.8,\"#7fbc41\"],[0.9,\"#4d9221\"],[1,\"#276419\"]]},\"xaxis\":{\"gridcolor\":\"white\",\"linecolor\":\"white\",\"ticks\":\"\",\"title\":{\"standoff\":15},\"zerolinecolor\":\"white\",\"automargin\":true,\"zerolinewidth\":2},\"yaxis\":{\"gridcolor\":\"white\",\"linecolor\":\"white\",\"ticks\":\"\",\"title\":{\"standoff\":15},\"zerolinecolor\":\"white\",\"automargin\":true,\"zerolinewidth\":2},\"scene\":{\"xaxis\":{\"backgroundcolor\":\"#E5ECF6\",\"gridcolor\":\"white\",\"linecolor\":\"white\",\"showbackground\":true,\"ticks\":\"\",\"zerolinecolor\":\"white\",\"gridwidth\":2},\"yaxis\":{\"backgroundcolor\":\"#E5ECF6\",\"gridcolor\":\"white\",\"linecolor\":\"white\",\"showbackground\":true,\"ticks\":\"\",\"zerolinecolor\":\"white\",\"gridwidth\":2},\"zaxis\":{\"backgroundcolor\":\"#E5ECF6\",\"gridcolor\":\"white\",\"linecolor\":\"white\",\"showbackground\":true,\"ticks\":\"\",\"zerolinecolor\":\"white\",\"gridwidth\":2}},\"shapedefaults\":{\"line\":{\"color\":\"#2a3f5f\"}},\"annotationdefaults\":{\"arrowcolor\":\"#2a3f5f\",\"arrowhead\":0,\"arrowwidth\":1},\"geo\":{\"bgcolor\":\"white\",\"landcolor\":\"#E5ECF6\",\"subunitcolor\":\"white\",\"showland\":true,\"showlakes\":true,\"lakecolor\":\"white\"},\"title\":{\"x\":0.05},\"mapbox\":{\"style\":\"light\"}}},\"title\":{\"text\":\"Performance Comparison Table\"},\"width\":700,\"height\":300},                        {\"responsive\": true}                    ).then(function(){\n",
       "                            \n",
       "var gd = document.getElementById('2cabb0d7-7704-4bf1-9b10-e62054795d48');\n",
       "var x = new MutationObserver(function (mutations, observer) {{\n",
       "        var display = window.getComputedStyle(gd).display;\n",
       "        if (!display || display === 'none') {{\n",
       "            console.log([gd, 'removed!']);\n",
       "            Plotly.purge(gd);\n",
       "            observer.disconnect();\n",
       "        }}\n",
       "}});\n",
       "\n",
       "// Listen for the removal of the full notebook cells\n",
       "var notebookContainer = gd.closest('#notebook-container');\n",
       "if (notebookContainer) {{\n",
       "    x.observe(notebookContainer, {childList: true});\n",
       "}}\n",
       "\n",
       "// Listen for the clearing of the current output cell\n",
       "var outputEl = gd.closest('.output');\n",
       "if (outputEl) {{\n",
       "    x.observe(outputEl, {childList: true});\n",
       "}}\n",
       "\n",
       "                        })                };                });            </script>        </div>"
      ]
     },
     "metadata": {},
     "output_type": "display_data"
    }
   ],
   "source": [
    "import plotly.graph_objects as go\n",
    "\n",
    "fig = go.Figure(data=[go.Table(\n",
    "    header=dict(values=list(results.columns),\n",
    "                fill_color='lightblue',\n",
    "                align='center'),\n",
    "    cells=dict(values=[results[col].round(4) for col in results.columns],\n",
    "               fill_color='lavender',\n",
    "               align='center'))\n",
    "])\n",
    "\n",
    "fig.update_layout(title=\"Performance Comparison Table\")\n",
    "fig.update_layout(\n",
    "    title=\"Performance Comparison Table\",\n",
    "    width=700,   # wider\n",
    "    height=300   # taller\n",
    ")\n",
    "fig.show()\n"
   ]
  },
  {
   "cell_type": "code",
   "execution_count": 102,
   "id": "f2cb487b-6c2b-4803-843d-5459036474c2",
   "metadata": {},
   "outputs": [
    {
     "data": {
      "text/html": [
       "<div>\n",
       "<style scoped>\n",
       "    .dataframe tbody tr th:only-of-type {\n",
       "        vertical-align: middle;\n",
       "    }\n",
       "\n",
       "    .dataframe tbody tr th {\n",
       "        vertical-align: top;\n",
       "    }\n",
       "\n",
       "    .dataframe thead th {\n",
       "        text-align: right;\n",
       "    }\n",
       "</style>\n",
       "<table border=\"1\" class=\"dataframe\">\n",
       "  <thead>\n",
       "    <tr style=\"text-align: right;\">\n",
       "      <th></th>\n",
       "      <th>ds</th>\n",
       "      <th>y</th>\n",
       "    </tr>\n",
       "  </thead>\n",
       "  <tbody>\n",
       "    <tr>\n",
       "      <th>0</th>\n",
       "      <td>2021-07-26</td>\n",
       "      <td>140.649994</td>\n",
       "    </tr>\n",
       "    <tr>\n",
       "      <th>1</th>\n",
       "      <td>2021-07-27</td>\n",
       "      <td>132.899994</td>\n",
       "    </tr>\n",
       "    <tr>\n",
       "      <th>2</th>\n",
       "      <td>2021-07-28</td>\n",
       "      <td>131.199997</td>\n",
       "    </tr>\n",
       "    <tr>\n",
       "      <th>3</th>\n",
       "      <td>2021-07-29</td>\n",
       "      <td>141.550003</td>\n",
       "    </tr>\n",
       "    <tr>\n",
       "      <th>4</th>\n",
       "      <td>2021-07-30</td>\n",
       "      <td>133.500000</td>\n",
       "    </tr>\n",
       "  </tbody>\n",
       "</table>\n",
       "</div>"
      ],
      "text/plain": [
       "          ds           y\n",
       "0 2021-07-26  140.649994\n",
       "1 2021-07-27  132.899994\n",
       "2 2021-07-28  131.199997\n",
       "3 2021-07-29  141.550003\n",
       "4 2021-07-30  133.500000"
      ]
     },
     "execution_count": 102,
     "metadata": {},
     "output_type": "execute_result"
    }
   ],
   "source": [
    "df_prop.head()"
   ]
  },
  {
   "cell_type": "code",
   "execution_count": 110,
   "id": "3d06f8fb-6367-4409-9bfc-0fddd162724e",
   "metadata": {},
   "outputs": [],
   "source": [
    "import pickle\n",
    "\n",
    "with open(\"model_arima.pkl\", \"wb\") as f:\n",
    "    pickle.dump(arima_fitted, f)"
   ]
  },
  {
   "cell_type": "code",
   "execution_count": 112,
   "id": "1c0a65d9-4f41-488a-8ff7-0d823619dd11",
   "metadata": {},
   "outputs": [],
   "source": [
    "# Save Prophet\n",
    "with open(\"model_prophet.pkl\", \"wb\") as f:\n",
    "    pickle.dump(prophet_model, f)\n"
   ]
  },
  {
   "cell_type": "code",
   "execution_count": null,
   "id": "06396566-6017-4eb0-a0ee-f8c0ecc26451",
   "metadata": {},
   "outputs": [],
   "source": []
  }
 ],
 "metadata": {
  "kernelspec": {
   "display_name": "Python [conda env:py312-env]",
   "language": "python",
   "name": "conda-env-py312-env-py"
  },
  "language_info": {
   "codemirror_mode": {
    "name": "ipython",
    "version": 3
   },
   "file_extension": ".py",
   "mimetype": "text/x-python",
   "name": "python",
   "nbconvert_exporter": "python",
   "pygments_lexer": "ipython3",
   "version": "3.12.7"
  }
 },
 "nbformat": 4,
 "nbformat_minor": 5
}
